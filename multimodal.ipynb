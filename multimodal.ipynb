{
 "cells": [
  {
   "cell_type": "markdown",
   "metadata": {},
   "source": [
    "# Multimodal"
   ]
  },
  {
   "cell_type": "markdown",
   "metadata": {},
   "source": [
    "## Setup"
   ]
  },
  {
   "cell_type": "markdown",
   "metadata": {},
   "source": [
    "### Imports"
   ]
  },
  {
   "cell_type": "code",
   "execution_count": 1,
   "metadata": {},
   "outputs": [],
   "source": [
    "# Imports\n",
    "import os\n",
    "import numpy as np\n",
    "import pandas as pd\n",
    "import random\n",
    "from tqdm.notebook import tqdm\n",
    "import torch\n",
    "from transformers import AutoTokenizer, AutoModel, AutoModelForSequenceClassification, pipeline\n",
    "from torch.utils.data import Dataset, DataLoader\n",
    "from src.utils import *\n",
    "from src.models import *\n",
    "from src.process_reports import *\n",
    "from src.train import train_mm, kfold_cv\n",
    "\n",
    "%load_ext autoreload\n",
    "%autoreload 2"
   ]
  },
  {
   "cell_type": "markdown",
   "metadata": {},
   "source": [
    "### Set seed & device"
   ]
  },
  {
   "cell_type": "code",
   "execution_count": 2,
   "metadata": {},
   "outputs": [],
   "source": [
    "set_seed(42)      \n",
    "device = torch.device(\"cuda\" if torch.cuda.is_available() else \"cpu\")\n",
    "# set torch matmul precision\n",
    "torch.set_float32_matmul_precision('medium')"
   ]
  },
  {
   "cell_type": "markdown",
   "metadata": {},
   "source": [
    "### Extract text feats from reports"
   ]
  },
  {
   "cell_type": "code",
   "execution_count": 3,
   "metadata": {},
   "outputs": [],
   "source": [
    "%%script false --no-raise-error\n",
    "# load biobert model & tokenizer\n",
    "tokenizer = AutoTokenizer.from_pretrained(''dmis-lab/biobert-large-cased-v1.1-mnli)\n",
    "lm = AutoModel.from_pretrained('dmis-lab/biobert-large-cased-v1.1-mnli')\n",
    "data_dir = '/mnt/disks/ext/data/gdc/tcga/brca'\n",
    "output_dir = 'data/report_feats'\n",
    "extract_text_features(lm, tokenizer, data_dir)"
   ]
  },
  {
   "cell_type": "markdown",
   "metadata": {},
   "source": [
    "## Task: Predict sTILs from WSIs & reports"
   ]
  },
  {
   "cell_type": "markdown",
   "metadata": {},
   "source": [
    "### Load data"
   ]
  },
  {
   "cell_type": "code",
   "execution_count": 2,
   "metadata": {},
   "outputs": [
    {
     "name": "stdout",
     "output_type": "stream",
     "text": [
      "size of train set: 557, val set: 69, test set: 70\n"
     ]
    }
   ],
   "source": [
    "# create the dataloaders\n",
    "root_dir = './'\n",
    "data_file_stils = 'data/stils/data_stils.csv'\n",
    "bsz = 32 # batch size for dataloaders\n",
    "train_loader, val_loader, test_loader = create_dataloaders('stils', data_file_stils, use_rand_splits=True, bsz=bsz)"
   ]
  },
  {
   "cell_type": "markdown",
   "metadata": {},
   "source": [
    "### Train & eval"
   ]
  },
  {
   "cell_type": "code",
   "execution_count": 4,
   "metadata": {},
   "outputs": [
    {
     "name": "stderr",
     "output_type": "stream",
     "text": [
      "GPU available: True (cuda), used: True\n",
      "TPU available: False, using: 0 TPU cores\n",
      "IPU available: False, using: 0 IPUs\n",
      "HPU available: False, using: 0 HPUs\n"
     ]
    },
    {
     "name": "stderr",
     "output_type": "stream",
     "text": [
      "You are using a CUDA device ('NVIDIA A100-SXM4-40GB') that has Tensor Cores. To properly utilize them, you should set `torch.set_float32_matmul_precision('medium' | 'high')` which will trade-off precision for performance. For more details, read https://pytorch.org/docs/stable/generated/torch.set_float32_matmul_precision.html#torch.set_float32_matmul_precision\n",
      "/opt/conda/envs/multimodal/lib/python3.11/site-packages/pytorch_lightning/callbacks/model_checkpoint.py:615: UserWarning: Checkpoint directory /home/neil/multimodal/model_ckpts/Attention1DSTILRegressor/stils exists and is not empty.\n",
      "  rank_zero_warn(f\"Checkpoint directory {dirpath} exists and is not empty.\")\n",
      "LOCAL_RANK: 0 - CUDA_VISIBLE_DEVICES: [0]\n",
      "\n",
      "  | Name       | Type            | Params\n",
      "-----------------------------------------------\n",
      "0 | attention  | Sequential      | 262 K \n",
      "1 | regressor  | Sequential      | 2.0 K \n",
      "2 | loss       | MSELoss         | 0     \n",
      "3 | train_corr | PearsonCorrCoef | 0     \n",
      "4 | train_r2   | R2Score         | 0     \n",
      "5 | val_corr   | PearsonCorrCoef | 0     \n",
      "6 | val_r2     | R2Score         | 0     \n",
      "7 | test_corr  | PearsonCorrCoef | 0     \n",
      "8 | test_r2    | R2Score         | 0     \n",
      "-----------------------------------------------\n",
      "264 K     Trainable params\n",
      "0         Non-trainable params\n",
      "264 K     Total params\n",
      "1.058     Total estimated model params size (MB)\n"
     ]
    },
    {
     "data": {
      "application/vnd.jupyter.widget-view+json": {
       "model_id": "7c907a3db5224ade92175e38a4993bc3",
       "version_major": 2,
       "version_minor": 0
      },
      "text/plain": [
       "Sanity Checking: 0it [00:00, ?it/s]"
      ]
     },
     "metadata": {},
     "output_type": "display_data"
    },
    {
     "data": {
      "application/vnd.jupyter.widget-view+json": {
       "model_id": "09c8be73a00244d4a102cadad3c488c5",
       "version_major": 2,
       "version_minor": 0
      },
      "text/plain": [
       "Training: 0it [00:00, ?it/s]"
      ]
     },
     "metadata": {},
     "output_type": "display_data"
    },
    {
     "data": {
      "application/vnd.jupyter.widget-view+json": {
       "model_id": "7cef8ff341194b41bfd84c4b3e5d2a43",
       "version_major": 2,
       "version_minor": 0
      },
      "text/plain": [
       "Validation: 0it [00:00, ?it/s]"
      ]
     },
     "metadata": {},
     "output_type": "display_data"
    },
    {
     "name": "stderr",
     "output_type": "stream",
     "text": [
      "Metric val_loss improved. New best score: 0.135\n",
      "/opt/conda/envs/multimodal/lib/python3.11/site-packages/pytorch_lightning/trainer/call.py:52: UserWarning: Detected KeyboardInterrupt, attempting graceful shutdown...\n",
      "  rank_zero_warn(\"Detected KeyboardInterrupt, attempting graceful shutdown...\")\n",
      "LOCAL_RANK: 0 - CUDA_VISIBLE_DEVICES: [0]\n"
     ]
    },
    {
     "name": "stdout",
     "output_type": "stream",
     "text": [
      "training on device: cuda:0\n"
     ]
    },
    {
     "data": {
      "application/vnd.jupyter.widget-view+json": {
       "model_id": "84987db7da0044548ff1779c179ce259",
       "version_major": 2,
       "version_minor": 0
      },
      "text/plain": [
       "Testing: 0it [00:00, ?it/s]"
      ]
     },
     "metadata": {},
     "output_type": "display_data"
    },
    {
     "data": {
      "text/html": [
       "<pre style=\"white-space:pre;overflow-x:auto;line-height:normal;font-family:Menlo,'DejaVu Sans Mono',consolas,'Courier New',monospace\">┏━━━━━━━━━━━━━━━━━━━━━━━━━━━┳━━━━━━━━━━━━━━━━━━━━━━━━━━━┓\n",
       "┃<span style=\"font-weight: bold\">   Runningstage.testing    </span>┃<span style=\"font-weight: bold\">                           </span>┃\n",
       "┃<span style=\"font-weight: bold\">          metric           </span>┃<span style=\"font-weight: bold\">       DataLoader 0        </span>┃\n",
       "┡━━━━━━━━━━━━━━━━━━━━━━━━━━━╇━━━━━━━━━━━━━━━━━━━━━━━━━━━┩\n",
       "│<span style=\"color: #008080; text-decoration-color: #008080\">      test_corr_epoch      </span>│<span style=\"color: #800080; text-decoration-color: #800080\">   0.049729831516742706    </span>│\n",
       "│<span style=\"color: #008080; text-decoration-color: #008080\">       test_r2_epoch       </span>│<span style=\"color: #800080; text-decoration-color: #800080\">    -1.7736320495605469    </span>│\n",
       "└───────────────────────────┴───────────────────────────┘\n",
       "</pre>\n"
      ],
      "text/plain": [
       "┏━━━━━━━━━━━━━━━━━━━━━━━━━━━┳━━━━━━━━━━━━━━━━━━━━━━━━━━━┓\n",
       "┃\u001b[1m \u001b[0m\u001b[1m  Runningstage.testing   \u001b[0m\u001b[1m \u001b[0m┃\u001b[1m                           \u001b[0m┃\n",
       "┃\u001b[1m \u001b[0m\u001b[1m         metric          \u001b[0m\u001b[1m \u001b[0m┃\u001b[1m \u001b[0m\u001b[1m      DataLoader 0       \u001b[0m\u001b[1m \u001b[0m┃\n",
       "┡━━━━━━━━━━━━━━━━━━━━━━━━━━━╇━━━━━━━━━━━━━━━━━━━━━━━━━━━┩\n",
       "│\u001b[36m \u001b[0m\u001b[36m     test_corr_epoch     \u001b[0m\u001b[36m \u001b[0m│\u001b[35m \u001b[0m\u001b[35m  0.049729831516742706   \u001b[0m\u001b[35m \u001b[0m│\n",
       "│\u001b[36m \u001b[0m\u001b[36m      test_r2_epoch      \u001b[0m\u001b[36m \u001b[0m│\u001b[35m \u001b[0m\u001b[35m   -1.7736320495605469   \u001b[0m\u001b[35m \u001b[0m│\n",
       "└───────────────────────────┴───────────────────────────┘\n"
      ]
     },
     "metadata": {},
     "output_type": "display_data"
    },
    {
     "data": {
      "text/plain": [
       "[{'test_corr_epoch': 0.049729831516742706,\n",
       "  'test_r2_epoch': -1.7736320495605469}]"
      ]
     },
     "execution_count": 4,
     "metadata": {},
     "output_type": "execute_result"
    }
   ],
   "source": [
    "# %%script false --no-raise-error\n",
    "# init model\n",
    "mode = 'img'  # input modalities: 'text', 'img', or 'multimodal'\n",
    "split = 'def'   # dataset split: 'def' or 'rand'\n",
    "model = Attention1DSTILRegressor(mode=mode)\n",
    "\n",
    "# set training args\n",
    "args = {'num_epochs': 100, 'ckpt_name': f'ckpt_best_{mode}_{split}_split', 'resume_ckpt': None, 'tblog_name': f'best_{mode}_{split}_split'}\n",
    "\n",
    "# train model\n",
    "model, trainer = train_mm(model, train_loader, val_loader, args)\n",
    "\n",
    "# evaluate the trained model on the test set\n",
    "trainer.test(model, test_loader)"
   ]
  },
  {
   "cell_type": "markdown",
   "metadata": {},
   "source": [
    "### K-fold CV"
   ]
  },
  {
   "cell_type": "code",
   "execution_count": 5,
   "metadata": {},
   "outputs": [
    {
     "name": "stderr",
     "output_type": "stream",
     "text": [
      "GPU available: True (cuda), used: True\n",
      "TPU available: False, using: 0 TPU cores\n",
      "IPU available: False, using: 0 IPUs\n",
      "HPU available: False, using: 0 HPUs\n",
      "LOCAL_RANK: 0 - CUDA_VISIBLE_DEVICES: [0]\n",
      "\n",
      "  | Name       | Type            | Params\n",
      "-----------------------------------------------\n",
      "0 | attention  | Sequential      | 262 K \n",
      "1 | regressor  | Sequential      | 2.0 K \n",
      "2 | loss       | MSELoss         | 0     \n",
      "3 | train_corr | PearsonCorrCoef | 0     \n",
      "4 | train_r2   | R2Score         | 0     \n",
      "5 | val_corr   | PearsonCorrCoef | 0     \n",
      "6 | val_r2     | R2Score         | 0     \n",
      "7 | test_corr  | PearsonCorrCoef | 0     \n",
      "8 | test_r2    | R2Score         | 0     \n",
      "-----------------------------------------------\n",
      "264 K     Trainable params\n",
      "0         Non-trainable params\n",
      "264 K     Total params\n",
      "1.058     Total estimated model params size (MB)\n"
     ]
    },
    {
     "name": "stdout",
     "output_type": "stream",
     "text": [
      "training fold 1/5\n"
     ]
    },
    {
     "name": "stderr",
     "output_type": "stream",
     "text": [
      "Metric val_loss improved. New best score: 0.114\n",
      "Metric val_loss improved by 0.018 >= min_delta = 0.0. New best score: 0.096\n",
      "Metric val_loss improved by 0.021 >= min_delta = 0.0. New best score: 0.075\n",
      "Metric val_loss improved by 0.019 >= min_delta = 0.0. New best score: 0.056\n",
      "Metric val_loss improved by 0.010 >= min_delta = 0.0. New best score: 0.045\n",
      "Metric val_loss improved by 0.003 >= min_delta = 0.0. New best score: 0.042\n",
      "Metric val_loss improved by 0.000 >= min_delta = 0.0. New best score: 0.042\n",
      "Metric val_loss improved by 0.000 >= min_delta = 0.0. New best score: 0.042\n",
      "Metric val_loss improved by 0.000 >= min_delta = 0.0. New best score: 0.042\n",
      "Metric val_loss improved by 0.000 >= min_delta = 0.0. New best score: 0.042\n",
      "Metric val_loss improved by 0.000 >= min_delta = 0.0. New best score: 0.042\n",
      "Metric val_loss improved by 0.001 >= min_delta = 0.0. New best score: 0.041\n",
      "Metric val_loss improved by 0.000 >= min_delta = 0.0. New best score: 0.041\n",
      "Metric val_loss improved by 0.000 >= min_delta = 0.0. New best score: 0.040\n",
      "Metric val_loss improved by 0.001 >= min_delta = 0.0. New best score: 0.039\n",
      "Metric val_loss improved by 0.000 >= min_delta = 0.0. New best score: 0.039\n",
      "Metric val_loss improved by 0.001 >= min_delta = 0.0. New best score: 0.038\n",
      "Metric val_loss improved by 0.001 >= min_delta = 0.0. New best score: 0.037\n",
      "Metric val_loss improved by 0.001 >= min_delta = 0.0. New best score: 0.036\n",
      "Metric val_loss improved by 0.000 >= min_delta = 0.0. New best score: 0.036\n",
      "Metric val_loss improved by 0.000 >= min_delta = 0.0. New best score: 0.035\n",
      "Metric val_loss improved by 0.000 >= min_delta = 0.0. New best score: 0.035\n",
      "Metric val_loss improved by 0.001 >= min_delta = 0.0. New best score: 0.034\n",
      "Metric val_loss improved by 0.001 >= min_delta = 0.0. New best score: 0.034\n",
      "Monitored metric val_loss did not improve in the last 5 records. Best score: 0.034. Signaling Trainer to stop.\n",
      "LOCAL_RANK: 0 - CUDA_VISIBLE_DEVICES: [0]\n"
     ]
    },
    {
     "name": "stdout",
     "output_type": "stream",
     "text": [
      "training on device: cpu\n"
     ]
    },
    {
     "data": {
      "text/html": [
       "<pre style=\"white-space:pre;overflow-x:auto;line-height:normal;font-family:Menlo,'DejaVu Sans Mono',consolas,'Courier New',monospace\">┏━━━━━━━━━━━━━━━━━━━━━━━━━━━┳━━━━━━━━━━━━━━━━━━━━━━━━━━━┓\n",
       "┃<span style=\"font-weight: bold\">   Runningstage.testing    </span>┃<span style=\"font-weight: bold\">                           </span>┃\n",
       "┃<span style=\"font-weight: bold\">          metric           </span>┃<span style=\"font-weight: bold\">       DataLoader 0        </span>┃\n",
       "┡━━━━━━━━━━━━━━━━━━━━━━━━━━━╇━━━━━━━━━━━━━━━━━━━━━━━━━━━┩\n",
       "│<span style=\"color: #008080; text-decoration-color: #008080\">      test_corr_epoch      </span>│<span style=\"color: #800080; text-decoration-color: #800080\">    0.5622493028640747     </span>│\n",
       "│<span style=\"color: #008080; text-decoration-color: #008080\">       test_r2_epoch       </span>│<span style=\"color: #800080; text-decoration-color: #800080\">    0.2218136191368103     </span>│\n",
       "└───────────────────────────┴───────────────────────────┘\n",
       "</pre>\n"
      ],
      "text/plain": [
       "┏━━━━━━━━━━━━━━━━━━━━━━━━━━━┳━━━━━━━━━━━━━━━━━━━━━━━━━━━┓\n",
       "┃\u001b[1m \u001b[0m\u001b[1m  Runningstage.testing   \u001b[0m\u001b[1m \u001b[0m┃\u001b[1m                           \u001b[0m┃\n",
       "┃\u001b[1m \u001b[0m\u001b[1m         metric          \u001b[0m\u001b[1m \u001b[0m┃\u001b[1m \u001b[0m\u001b[1m      DataLoader 0       \u001b[0m\u001b[1m \u001b[0m┃\n",
       "┡━━━━━━━━━━━━━━━━━━━━━━━━━━━╇━━━━━━━━━━━━━━━━━━━━━━━━━━━┩\n",
       "│\u001b[36m \u001b[0m\u001b[36m     test_corr_epoch     \u001b[0m\u001b[36m \u001b[0m│\u001b[35m \u001b[0m\u001b[35m   0.5622493028640747    \u001b[0m\u001b[35m \u001b[0m│\n",
       "│\u001b[36m \u001b[0m\u001b[36m      test_r2_epoch      \u001b[0m\u001b[36m \u001b[0m│\u001b[35m \u001b[0m\u001b[35m   0.2218136191368103    \u001b[0m\u001b[35m \u001b[0m│\n",
       "└───────────────────────────┴───────────────────────────┘\n"
      ]
     },
     "metadata": {},
     "output_type": "display_data"
    },
    {
     "name": "stderr",
     "output_type": "stream",
     "text": [
      "GPU available: True (cuda), used: True\n",
      "TPU available: False, using: 0 TPU cores\n",
      "IPU available: False, using: 0 IPUs\n",
      "HPU available: False, using: 0 HPUs\n",
      "LOCAL_RANK: 0 - CUDA_VISIBLE_DEVICES: [0]\n",
      "\n",
      "  | Name       | Type            | Params\n",
      "-----------------------------------------------\n",
      "0 | attention  | Sequential      | 262 K \n",
      "1 | regressor  | Sequential      | 2.0 K \n",
      "2 | loss       | MSELoss         | 0     \n",
      "3 | train_corr | PearsonCorrCoef | 0     \n",
      "4 | train_r2   | R2Score         | 0     \n",
      "5 | val_corr   | PearsonCorrCoef | 0     \n",
      "6 | val_r2     | R2Score         | 0     \n",
      "7 | test_corr  | PearsonCorrCoef | 0     \n",
      "8 | test_r2    | R2Score         | 0     \n",
      "-----------------------------------------------\n",
      "264 K     Trainable params\n",
      "0         Non-trainable params\n",
      "264 K     Total params\n",
      "1.058     Total estimated model params size (MB)\n"
     ]
    },
    {
     "name": "stdout",
     "output_type": "stream",
     "text": [
      "training fold 2/5\n"
     ]
    },
    {
     "name": "stderr",
     "output_type": "stream",
     "text": [
      "Metric val_loss improved. New best score: 0.126\n",
      "Metric val_loss improved by 0.027 >= min_delta = 0.0. New best score: 0.100\n",
      "Metric val_loss improved by 0.029 >= min_delta = 0.0. New best score: 0.071\n",
      "Metric val_loss improved by 0.020 >= min_delta = 0.0. New best score: 0.050\n",
      "Metric val_loss improved by 0.010 >= min_delta = 0.0. New best score: 0.040\n",
      "Metric val_loss improved by 0.004 >= min_delta = 0.0. New best score: 0.037\n",
      "Metric val_loss improved by 0.001 >= min_delta = 0.0. New best score: 0.035\n",
      "Metric val_loss improved by 0.001 >= min_delta = 0.0. New best score: 0.035\n",
      "Metric val_loss improved by 0.000 >= min_delta = 0.0. New best score: 0.035\n",
      "Metric val_loss improved by 0.000 >= min_delta = 0.0. New best score: 0.034\n",
      "Metric val_loss improved by 0.000 >= min_delta = 0.0. New best score: 0.034\n",
      "Metric val_loss improved by 0.000 >= min_delta = 0.0. New best score: 0.034\n",
      "Metric val_loss improved by 0.000 >= min_delta = 0.0. New best score: 0.034\n",
      "Metric val_loss improved by 0.000 >= min_delta = 0.0. New best score: 0.033\n",
      "Metric val_loss improved by 0.000 >= min_delta = 0.0. New best score: 0.033\n",
      "Metric val_loss improved by 0.000 >= min_delta = 0.0. New best score: 0.033\n",
      "Metric val_loss improved by 0.000 >= min_delta = 0.0. New best score: 0.033\n",
      "Metric val_loss improved by 0.000 >= min_delta = 0.0. New best score: 0.033\n",
      "Metric val_loss improved by 0.000 >= min_delta = 0.0. New best score: 0.032\n",
      "Metric val_loss improved by 0.000 >= min_delta = 0.0. New best score: 0.032\n",
      "Metric val_loss improved by 0.000 >= min_delta = 0.0. New best score: 0.032\n",
      "Metric val_loss improved by 0.000 >= min_delta = 0.0. New best score: 0.031\n",
      "Metric val_loss improved by 0.000 >= min_delta = 0.0. New best score: 0.031\n",
      "Metric val_loss improved by 0.001 >= min_delta = 0.0. New best score: 0.030\n",
      "Metric val_loss improved by 0.000 >= min_delta = 0.0. New best score: 0.030\n",
      "Metric val_loss improved by 0.000 >= min_delta = 0.0. New best score: 0.030\n",
      "Metric val_loss improved by 0.000 >= min_delta = 0.0. New best score: 0.030\n",
      "Metric val_loss improved by 0.000 >= min_delta = 0.0. New best score: 0.030\n",
      "Metric val_loss improved by 0.000 >= min_delta = 0.0. New best score: 0.030\n",
      "Metric val_loss improved by 0.000 >= min_delta = 0.0. New best score: 0.029\n",
      "Metric val_loss improved by 0.000 >= min_delta = 0.0. New best score: 0.029\n",
      "Metric val_loss improved by 0.000 >= min_delta = 0.0. New best score: 0.029\n",
      "Metric val_loss improved by 0.000 >= min_delta = 0.0. New best score: 0.029\n",
      "Metric val_loss improved by 0.000 >= min_delta = 0.0. New best score: 0.029\n",
      "Metric val_loss improved by 0.000 >= min_delta = 0.0. New best score: 0.029\n",
      "Metric val_loss improved by 0.000 >= min_delta = 0.0. New best score: 0.029\n",
      "Metric val_loss improved by 0.000 >= min_delta = 0.0. New best score: 0.029\n",
      "Metric val_loss improved by 0.000 >= min_delta = 0.0. New best score: 0.028\n",
      "Metric val_loss improved by 0.000 >= min_delta = 0.0. New best score: 0.028\n",
      "Monitored metric val_loss did not improve in the last 5 records. Best score: 0.028. Signaling Trainer to stop.\n",
      "LOCAL_RANK: 0 - CUDA_VISIBLE_DEVICES: [0]\n"
     ]
    },
    {
     "name": "stdout",
     "output_type": "stream",
     "text": [
      "training on device: cpu\n"
     ]
    },
    {
     "data": {
      "text/html": [
       "<pre style=\"white-space:pre;overflow-x:auto;line-height:normal;font-family:Menlo,'DejaVu Sans Mono',consolas,'Courier New',monospace\">┏━━━━━━━━━━━━━━━━━━━━━━━━━━━┳━━━━━━━━━━━━━━━━━━━━━━━━━━━┓\n",
       "┃<span style=\"font-weight: bold\">   Runningstage.testing    </span>┃<span style=\"font-weight: bold\">                           </span>┃\n",
       "┃<span style=\"font-weight: bold\">          metric           </span>┃<span style=\"font-weight: bold\">       DataLoader 0        </span>┃\n",
       "┡━━━━━━━━━━━━━━━━━━━━━━━━━━━╇━━━━━━━━━━━━━━━━━━━━━━━━━━━┩\n",
       "│<span style=\"color: #008080; text-decoration-color: #008080\">      test_corr_epoch      </span>│<span style=\"color: #800080; text-decoration-color: #800080\">    0.46073707938194275    </span>│\n",
       "│<span style=\"color: #008080; text-decoration-color: #008080\">       test_r2_epoch       </span>│<span style=\"color: #800080; text-decoration-color: #800080\">    0.20819181203842163    </span>│\n",
       "└───────────────────────────┴───────────────────────────┘\n",
       "</pre>\n"
      ],
      "text/plain": [
       "┏━━━━━━━━━━━━━━━━━━━━━━━━━━━┳━━━━━━━━━━━━━━━━━━━━━━━━━━━┓\n",
       "┃\u001b[1m \u001b[0m\u001b[1m  Runningstage.testing   \u001b[0m\u001b[1m \u001b[0m┃\u001b[1m                           \u001b[0m┃\n",
       "┃\u001b[1m \u001b[0m\u001b[1m         metric          \u001b[0m\u001b[1m \u001b[0m┃\u001b[1m \u001b[0m\u001b[1m      DataLoader 0       \u001b[0m\u001b[1m \u001b[0m┃\n",
       "┡━━━━━━━━━━━━━━━━━━━━━━━━━━━╇━━━━━━━━━━━━━━━━━━━━━━━━━━━┩\n",
       "│\u001b[36m \u001b[0m\u001b[36m     test_corr_epoch     \u001b[0m\u001b[36m \u001b[0m│\u001b[35m \u001b[0m\u001b[35m   0.46073707938194275   \u001b[0m\u001b[35m \u001b[0m│\n",
       "│\u001b[36m \u001b[0m\u001b[36m      test_r2_epoch      \u001b[0m\u001b[36m \u001b[0m│\u001b[35m \u001b[0m\u001b[35m   0.20819181203842163   \u001b[0m\u001b[35m \u001b[0m│\n",
       "└───────────────────────────┴───────────────────────────┘\n"
      ]
     },
     "metadata": {},
     "output_type": "display_data"
    },
    {
     "name": "stderr",
     "output_type": "stream",
     "text": [
      "GPU available: True (cuda), used: True\n",
      "TPU available: False, using: 0 TPU cores\n",
      "IPU available: False, using: 0 IPUs\n",
      "HPU available: False, using: 0 HPUs\n",
      "LOCAL_RANK: 0 - CUDA_VISIBLE_DEVICES: [0]\n",
      "\n",
      "  | Name       | Type            | Params\n",
      "-----------------------------------------------\n",
      "0 | attention  | Sequential      | 262 K \n",
      "1 | regressor  | Sequential      | 2.0 K \n",
      "2 | loss       | MSELoss         | 0     \n",
      "3 | train_corr | PearsonCorrCoef | 0     \n",
      "4 | train_r2   | R2Score         | 0     \n",
      "5 | val_corr   | PearsonCorrCoef | 0     \n",
      "6 | val_r2     | R2Score         | 0     \n",
      "7 | test_corr  | PearsonCorrCoef | 0     \n",
      "8 | test_r2    | R2Score         | 0     \n",
      "-----------------------------------------------\n",
      "264 K     Trainable params\n",
      "0         Non-trainable params\n",
      "264 K     Total params\n",
      "1.058     Total estimated model params size (MB)\n"
     ]
    },
    {
     "name": "stdout",
     "output_type": "stream",
     "text": [
      "training fold 3/5\n"
     ]
    },
    {
     "name": "stderr",
     "output_type": "stream",
     "text": [
      "Metric val_loss improved. New best score: 0.124\n",
      "Metric val_loss improved by 0.024 >= min_delta = 0.0. New best score: 0.100\n",
      "Metric val_loss improved by 0.027 >= min_delta = 0.0. New best score: 0.073\n",
      "Metric val_loss improved by 0.023 >= min_delta = 0.0. New best score: 0.050\n",
      "Metric val_loss improved by 0.012 >= min_delta = 0.0. New best score: 0.038\n",
      "Metric val_loss improved by 0.005 >= min_delta = 0.0. New best score: 0.033\n",
      "Metric val_loss improved by 0.002 >= min_delta = 0.0. New best score: 0.031\n",
      "Metric val_loss improved by 0.001 >= min_delta = 0.0. New best score: 0.031\n",
      "Metric val_loss improved by 0.000 >= min_delta = 0.0. New best score: 0.030\n",
      "Metric val_loss improved by 0.000 >= min_delta = 0.0. New best score: 0.030\n",
      "Metric val_loss improved by 0.000 >= min_delta = 0.0. New best score: 0.030\n",
      "Metric val_loss improved by 0.000 >= min_delta = 0.0. New best score: 0.030\n",
      "Metric val_loss improved by 0.000 >= min_delta = 0.0. New best score: 0.029\n",
      "Metric val_loss improved by 0.000 >= min_delta = 0.0. New best score: 0.029\n",
      "Metric val_loss improved by 0.000 >= min_delta = 0.0. New best score: 0.029\n",
      "Metric val_loss improved by 0.000 >= min_delta = 0.0. New best score: 0.029\n",
      "Metric val_loss improved by 0.000 >= min_delta = 0.0. New best score: 0.029\n",
      "Metric val_loss improved by 0.000 >= min_delta = 0.0. New best score: 0.028\n",
      "Metric val_loss improved by 0.000 >= min_delta = 0.0. New best score: 0.028\n",
      "Metric val_loss improved by 0.000 >= min_delta = 0.0. New best score: 0.028\n",
      "Metric val_loss improved by 0.000 >= min_delta = 0.0. New best score: 0.028\n",
      "Metric val_loss improved by 0.000 >= min_delta = 0.0. New best score: 0.028\n",
      "Metric val_loss improved by 0.000 >= min_delta = 0.0. New best score: 0.027\n",
      "Metric val_loss improved by 0.000 >= min_delta = 0.0. New best score: 0.027\n",
      "Metric val_loss improved by 0.000 >= min_delta = 0.0. New best score: 0.027\n",
      "Metric val_loss improved by 0.000 >= min_delta = 0.0. New best score: 0.027\n",
      "Metric val_loss improved by 0.000 >= min_delta = 0.0. New best score: 0.027\n",
      "Metric val_loss improved by 0.000 >= min_delta = 0.0. New best score: 0.027\n",
      "Monitored metric val_loss did not improve in the last 5 records. Best score: 0.027. Signaling Trainer to stop.\n",
      "LOCAL_RANK: 0 - CUDA_VISIBLE_DEVICES: [0]\n"
     ]
    },
    {
     "name": "stdout",
     "output_type": "stream",
     "text": [
      "training on device: cpu\n"
     ]
    },
    {
     "data": {
      "text/html": [
       "<pre style=\"white-space:pre;overflow-x:auto;line-height:normal;font-family:Menlo,'DejaVu Sans Mono',consolas,'Courier New',monospace\">┏━━━━━━━━━━━━━━━━━━━━━━━━━━━┳━━━━━━━━━━━━━━━━━━━━━━━━━━━┓\n",
       "┃<span style=\"font-weight: bold\">   Runningstage.testing    </span>┃<span style=\"font-weight: bold\">                           </span>┃\n",
       "┃<span style=\"font-weight: bold\">          metric           </span>┃<span style=\"font-weight: bold\">       DataLoader 0        </span>┃\n",
       "┡━━━━━━━━━━━━━━━━━━━━━━━━━━━╇━━━━━━━━━━━━━━━━━━━━━━━━━━━┩\n",
       "│<span style=\"color: #008080; text-decoration-color: #008080\">      test_corr_epoch      </span>│<span style=\"color: #800080; text-decoration-color: #800080\">    0.3940628170967102     </span>│\n",
       "│<span style=\"color: #008080; text-decoration-color: #008080\">       test_r2_epoch       </span>│<span style=\"color: #800080; text-decoration-color: #800080\">    0.13205158710479736    </span>│\n",
       "└───────────────────────────┴───────────────────────────┘\n",
       "</pre>\n"
      ],
      "text/plain": [
       "┏━━━━━━━━━━━━━━━━━━━━━━━━━━━┳━━━━━━━━━━━━━━━━━━━━━━━━━━━┓\n",
       "┃\u001b[1m \u001b[0m\u001b[1m  Runningstage.testing   \u001b[0m\u001b[1m \u001b[0m┃\u001b[1m                           \u001b[0m┃\n",
       "┃\u001b[1m \u001b[0m\u001b[1m         metric          \u001b[0m\u001b[1m \u001b[0m┃\u001b[1m \u001b[0m\u001b[1m      DataLoader 0       \u001b[0m\u001b[1m \u001b[0m┃\n",
       "┡━━━━━━━━━━━━━━━━━━━━━━━━━━━╇━━━━━━━━━━━━━━━━━━━━━━━━━━━┩\n",
       "│\u001b[36m \u001b[0m\u001b[36m     test_corr_epoch     \u001b[0m\u001b[36m \u001b[0m│\u001b[35m \u001b[0m\u001b[35m   0.3940628170967102    \u001b[0m\u001b[35m \u001b[0m│\n",
       "│\u001b[36m \u001b[0m\u001b[36m      test_r2_epoch      \u001b[0m\u001b[36m \u001b[0m│\u001b[35m \u001b[0m\u001b[35m   0.13205158710479736   \u001b[0m\u001b[35m \u001b[0m│\n",
       "└───────────────────────────┴───────────────────────────┘\n"
      ]
     },
     "metadata": {},
     "output_type": "display_data"
    },
    {
     "name": "stderr",
     "output_type": "stream",
     "text": [
      "GPU available: True (cuda), used: True\n",
      "TPU available: False, using: 0 TPU cores\n",
      "IPU available: False, using: 0 IPUs\n",
      "HPU available: False, using: 0 HPUs\n",
      "LOCAL_RANK: 0 - CUDA_VISIBLE_DEVICES: [0]\n",
      "\n",
      "  | Name       | Type            | Params\n",
      "-----------------------------------------------\n",
      "0 | attention  | Sequential      | 262 K \n",
      "1 | regressor  | Sequential      | 2.0 K \n",
      "2 | loss       | MSELoss         | 0     \n",
      "3 | train_corr | PearsonCorrCoef | 0     \n",
      "4 | train_r2   | R2Score         | 0     \n",
      "5 | val_corr   | PearsonCorrCoef | 0     \n",
      "6 | val_r2     | R2Score         | 0     \n",
      "7 | test_corr  | PearsonCorrCoef | 0     \n",
      "8 | test_r2    | R2Score         | 0     \n",
      "-----------------------------------------------\n",
      "264 K     Trainable params\n",
      "0         Non-trainable params\n",
      "264 K     Total params\n",
      "1.058     Total estimated model params size (MB)\n"
     ]
    },
    {
     "name": "stdout",
     "output_type": "stream",
     "text": [
      "training fold 4/5\n"
     ]
    },
    {
     "name": "stderr",
     "output_type": "stream",
     "text": [
      "Metric val_loss improved. New best score: 0.133\n",
      "Metric val_loss improved by 0.027 >= min_delta = 0.0. New best score: 0.106\n",
      "Metric val_loss improved by 0.031 >= min_delta = 0.0. New best score: 0.075\n",
      "Metric val_loss improved by 0.023 >= min_delta = 0.0. New best score: 0.052\n",
      "Metric val_loss improved by 0.011 >= min_delta = 0.0. New best score: 0.041\n",
      "Metric val_loss improved by 0.005 >= min_delta = 0.0. New best score: 0.037\n",
      "Metric val_loss improved by 0.002 >= min_delta = 0.0. New best score: 0.035\n",
      "Metric val_loss improved by 0.001 >= min_delta = 0.0. New best score: 0.034\n",
      "Metric val_loss improved by 0.000 >= min_delta = 0.0. New best score: 0.033\n",
      "Metric val_loss improved by 0.000 >= min_delta = 0.0. New best score: 0.033\n",
      "Metric val_loss improved by 0.000 >= min_delta = 0.0. New best score: 0.033\n",
      "Metric val_loss improved by 0.000 >= min_delta = 0.0. New best score: 0.032\n",
      "Metric val_loss improved by 0.000 >= min_delta = 0.0. New best score: 0.032\n",
      "Metric val_loss improved by 0.000 >= min_delta = 0.0. New best score: 0.032\n",
      "Metric val_loss improved by 0.000 >= min_delta = 0.0. New best score: 0.032\n",
      "Metric val_loss improved by 0.000 >= min_delta = 0.0. New best score: 0.031\n",
      "Metric val_loss improved by 0.001 >= min_delta = 0.0. New best score: 0.031\n",
      "Metric val_loss improved by 0.000 >= min_delta = 0.0. New best score: 0.031\n",
      "Metric val_loss improved by 0.001 >= min_delta = 0.0. New best score: 0.030\n",
      "Metric val_loss improved by 0.000 >= min_delta = 0.0. New best score: 0.030\n",
      "Metric val_loss improved by 0.000 >= min_delta = 0.0. New best score: 0.030\n",
      "Metric val_loss improved by 0.000 >= min_delta = 0.0. New best score: 0.029\n",
      "Metric val_loss improved by 0.000 >= min_delta = 0.0. New best score: 0.029\n",
      "Metric val_loss improved by 0.000 >= min_delta = 0.0. New best score: 0.029\n",
      "Metric val_loss improved by 0.000 >= min_delta = 0.0. New best score: 0.029\n",
      "Metric val_loss improved by 0.000 >= min_delta = 0.0. New best score: 0.028\n",
      "Metric val_loss improved by 0.000 >= min_delta = 0.0. New best score: 0.028\n",
      "Metric val_loss improved by 0.000 >= min_delta = 0.0. New best score: 0.027\n",
      "Monitored metric val_loss did not improve in the last 5 records. Best score: 0.027. Signaling Trainer to stop.\n",
      "LOCAL_RANK: 0 - CUDA_VISIBLE_DEVICES: [0]\n"
     ]
    },
    {
     "name": "stdout",
     "output_type": "stream",
     "text": [
      "training on device: cpu\n"
     ]
    },
    {
     "data": {
      "text/html": [
       "<pre style=\"white-space:pre;overflow-x:auto;line-height:normal;font-family:Menlo,'DejaVu Sans Mono',consolas,'Courier New',monospace\">┏━━━━━━━━━━━━━━━━━━━━━━━━━━━┳━━━━━━━━━━━━━━━━━━━━━━━━━━━┓\n",
       "┃<span style=\"font-weight: bold\">   Runningstage.testing    </span>┃<span style=\"font-weight: bold\">                           </span>┃\n",
       "┃<span style=\"font-weight: bold\">          metric           </span>┃<span style=\"font-weight: bold\">       DataLoader 0        </span>┃\n",
       "┡━━━━━━━━━━━━━━━━━━━━━━━━━━━╇━━━━━━━━━━━━━━━━━━━━━━━━━━━┩\n",
       "│<span style=\"color: #008080; text-decoration-color: #008080\">      test_corr_epoch      </span>│<span style=\"color: #800080; text-decoration-color: #800080\">    0.43070751428604126    </span>│\n",
       "│<span style=\"color: #008080; text-decoration-color: #008080\">       test_r2_epoch       </span>│<span style=\"color: #800080; text-decoration-color: #800080\">    0.16929662227630615    </span>│\n",
       "└───────────────────────────┴───────────────────────────┘\n",
       "</pre>\n"
      ],
      "text/plain": [
       "┏━━━━━━━━━━━━━━━━━━━━━━━━━━━┳━━━━━━━━━━━━━━━━━━━━━━━━━━━┓\n",
       "┃\u001b[1m \u001b[0m\u001b[1m  Runningstage.testing   \u001b[0m\u001b[1m \u001b[0m┃\u001b[1m                           \u001b[0m┃\n",
       "┃\u001b[1m \u001b[0m\u001b[1m         metric          \u001b[0m\u001b[1m \u001b[0m┃\u001b[1m \u001b[0m\u001b[1m      DataLoader 0       \u001b[0m\u001b[1m \u001b[0m┃\n",
       "┡━━━━━━━━━━━━━━━━━━━━━━━━━━━╇━━━━━━━━━━━━━━━━━━━━━━━━━━━┩\n",
       "│\u001b[36m \u001b[0m\u001b[36m     test_corr_epoch     \u001b[0m\u001b[36m \u001b[0m│\u001b[35m \u001b[0m\u001b[35m   0.43070751428604126   \u001b[0m\u001b[35m \u001b[0m│\n",
       "│\u001b[36m \u001b[0m\u001b[36m      test_r2_epoch      \u001b[0m\u001b[36m \u001b[0m│\u001b[35m \u001b[0m\u001b[35m   0.16929662227630615   \u001b[0m\u001b[35m \u001b[0m│\n",
       "└───────────────────────────┴───────────────────────────┘\n"
      ]
     },
     "metadata": {},
     "output_type": "display_data"
    },
    {
     "name": "stderr",
     "output_type": "stream",
     "text": [
      "GPU available: True (cuda), used: True\n",
      "TPU available: False, using: 0 TPU cores\n",
      "IPU available: False, using: 0 IPUs\n",
      "HPU available: False, using: 0 HPUs\n",
      "LOCAL_RANK: 0 - CUDA_VISIBLE_DEVICES: [0]\n",
      "\n",
      "  | Name       | Type            | Params\n",
      "-----------------------------------------------\n",
      "0 | attention  | Sequential      | 262 K \n",
      "1 | regressor  | Sequential      | 2.0 K \n",
      "2 | loss       | MSELoss         | 0     \n",
      "3 | train_corr | PearsonCorrCoef | 0     \n",
      "4 | train_r2   | R2Score         | 0     \n",
      "5 | val_corr   | PearsonCorrCoef | 0     \n",
      "6 | val_r2     | R2Score         | 0     \n",
      "7 | test_corr  | PearsonCorrCoef | 0     \n",
      "8 | test_r2    | R2Score         | 0     \n",
      "-----------------------------------------------\n",
      "264 K     Trainable params\n",
      "0         Non-trainable params\n",
      "264 K     Total params\n",
      "1.058     Total estimated model params size (MB)\n"
     ]
    },
    {
     "name": "stdout",
     "output_type": "stream",
     "text": [
      "training fold 5/5\n"
     ]
    },
    {
     "name": "stderr",
     "output_type": "stream",
     "text": [
      "Metric val_loss improved. New best score: 0.118\n",
      "Metric val_loss improved by 0.024 >= min_delta = 0.0. New best score: 0.094\n",
      "Metric val_loss improved by 0.027 >= min_delta = 0.0. New best score: 0.067\n",
      "Metric val_loss improved by 0.021 >= min_delta = 0.0. New best score: 0.046\n",
      "Metric val_loss improved by 0.011 >= min_delta = 0.0. New best score: 0.035\n",
      "Metric val_loss improved by 0.004 >= min_delta = 0.0. New best score: 0.031\n",
      "Metric val_loss improved by 0.001 >= min_delta = 0.0. New best score: 0.029\n",
      "Metric val_loss improved by 0.001 >= min_delta = 0.0. New best score: 0.029\n",
      "Metric val_loss improved by 0.000 >= min_delta = 0.0. New best score: 0.029\n",
      "Metric val_loss improved by 0.000 >= min_delta = 0.0. New best score: 0.028\n",
      "Metric val_loss improved by 0.000 >= min_delta = 0.0. New best score: 0.028\n",
      "Metric val_loss improved by 0.000 >= min_delta = 0.0. New best score: 0.028\n",
      "Metric val_loss improved by 0.000 >= min_delta = 0.0. New best score: 0.028\n",
      "Metric val_loss improved by 0.000 >= min_delta = 0.0. New best score: 0.028\n",
      "Metric val_loss improved by 0.000 >= min_delta = 0.0. New best score: 0.028\n",
      "Metric val_loss improved by 0.000 >= min_delta = 0.0. New best score: 0.027\n",
      "Metric val_loss improved by 0.000 >= min_delta = 0.0. New best score: 0.027\n",
      "Metric val_loss improved by 0.000 >= min_delta = 0.0. New best score: 0.027\n",
      "Metric val_loss improved by 0.000 >= min_delta = 0.0. New best score: 0.027\n",
      "Metric val_loss improved by 0.000 >= min_delta = 0.0. New best score: 0.026\n",
      "Metric val_loss improved by 0.000 >= min_delta = 0.0. New best score: 0.026\n",
      "Metric val_loss improved by 0.000 >= min_delta = 0.0. New best score: 0.026\n",
      "Metric val_loss improved by 0.000 >= min_delta = 0.0. New best score: 0.026\n",
      "Metric val_loss improved by 0.000 >= min_delta = 0.0. New best score: 0.026\n",
      "Metric val_loss improved by 0.000 >= min_delta = 0.0. New best score: 0.025\n",
      "Metric val_loss improved by 0.000 >= min_delta = 0.0. New best score: 0.025\n",
      "Metric val_loss improved by 0.000 >= min_delta = 0.0. New best score: 0.025\n",
      "Metric val_loss improved by 0.000 >= min_delta = 0.0. New best score: 0.025\n",
      "Metric val_loss improved by 0.000 >= min_delta = 0.0. New best score: 0.025\n",
      "Metric val_loss improved by 0.000 >= min_delta = 0.0. New best score: 0.025\n",
      "Metric val_loss improved by 0.000 >= min_delta = 0.0. New best score: 0.025\n",
      "Metric val_loss improved by 0.000 >= min_delta = 0.0. New best score: 0.025\n",
      "Metric val_loss improved by 0.000 >= min_delta = 0.0. New best score: 0.025\n",
      "Metric val_loss improved by 0.000 >= min_delta = 0.0. New best score: 0.024\n",
      "Metric val_loss improved by 0.000 >= min_delta = 0.0. New best score: 0.024\n",
      "Metric val_loss improved by 0.000 >= min_delta = 0.0. New best score: 0.024\n",
      "Metric val_loss improved by 0.000 >= min_delta = 0.0. New best score: 0.024\n",
      "Metric val_loss improved by 0.000 >= min_delta = 0.0. New best score: 0.024\n",
      "Metric val_loss improved by 0.000 >= min_delta = 0.0. New best score: 0.024\n",
      "Metric val_loss improved by 0.000 >= min_delta = 0.0. New best score: 0.024\n",
      "Metric val_loss improved by 0.000 >= min_delta = 0.0. New best score: 0.024\n",
      "Monitored metric val_loss did not improve in the last 5 records. Best score: 0.024. Signaling Trainer to stop.\n",
      "LOCAL_RANK: 0 - CUDA_VISIBLE_DEVICES: [0]\n"
     ]
    },
    {
     "name": "stdout",
     "output_type": "stream",
     "text": [
      "training on device: cpu\n"
     ]
    },
    {
     "data": {
      "text/html": [
       "<pre style=\"white-space:pre;overflow-x:auto;line-height:normal;font-family:Menlo,'DejaVu Sans Mono',consolas,'Courier New',monospace\">┏━━━━━━━━━━━━━━━━━━━━━━━━━━━┳━━━━━━━━━━━━━━━━━━━━━━━━━━━┓\n",
       "┃<span style=\"font-weight: bold\">   Runningstage.testing    </span>┃<span style=\"font-weight: bold\">                           </span>┃\n",
       "┃<span style=\"font-weight: bold\">          metric           </span>┃<span style=\"font-weight: bold\">       DataLoader 0        </span>┃\n",
       "┡━━━━━━━━━━━━━━━━━━━━━━━━━━━╇━━━━━━━━━━━━━━━━━━━━━━━━━━━┩\n",
       "│<span style=\"color: #008080; text-decoration-color: #008080\">      test_corr_epoch      </span>│<span style=\"color: #800080; text-decoration-color: #800080\">    0.43632176518440247    </span>│\n",
       "│<span style=\"color: #008080; text-decoration-color: #008080\">       test_r2_epoch       </span>│<span style=\"color: #800080; text-decoration-color: #800080\">    0.18766868114471436    </span>│\n",
       "└───────────────────────────┴───────────────────────────┘\n",
       "</pre>\n"
      ],
      "text/plain": [
       "┏━━━━━━━━━━━━━━━━━━━━━━━━━━━┳━━━━━━━━━━━━━━━━━━━━━━━━━━━┓\n",
       "┃\u001b[1m \u001b[0m\u001b[1m  Runningstage.testing   \u001b[0m\u001b[1m \u001b[0m┃\u001b[1m                           \u001b[0m┃\n",
       "┃\u001b[1m \u001b[0m\u001b[1m         metric          \u001b[0m\u001b[1m \u001b[0m┃\u001b[1m \u001b[0m\u001b[1m      DataLoader 0       \u001b[0m\u001b[1m \u001b[0m┃\n",
       "┡━━━━━━━━━━━━━━━━━━━━━━━━━━━╇━━━━━━━━━━━━━━━━━━━━━━━━━━━┩\n",
       "│\u001b[36m \u001b[0m\u001b[36m     test_corr_epoch     \u001b[0m\u001b[36m \u001b[0m│\u001b[35m \u001b[0m\u001b[35m   0.43632176518440247   \u001b[0m\u001b[35m \u001b[0m│\n",
       "│\u001b[36m \u001b[0m\u001b[36m      test_r2_epoch      \u001b[0m\u001b[36m \u001b[0m│\u001b[35m \u001b[0m\u001b[35m   0.18766868114471436   \u001b[0m\u001b[35m \u001b[0m│\n",
       "└───────────────────────────┴───────────────────────────┘\n"
      ]
     },
     "metadata": {},
     "output_type": "display_data"
    },
    {
     "name": "stdout",
     "output_type": "stream",
     "text": [
      "avg res over 5 folds: {'test_corr_epoch': 0.457, 'test_r2_epoch': 0.184}\n"
     ]
    }
   ],
   "source": [
    "# %%script false --no-raise-error\n",
    "# run k-fold CV\n",
    "dataset = MMSTILDataset()\n",
    "bsz = 64\n",
    "# init model\n",
    "model_class = Attention1DSTILRegressor\n",
    "mode = 'img'\n",
    "target = 'stils'\n",
    "# model args\n",
    "model_args = {'mode': mode, 'target': target}\n",
    "# train args\n",
    "train_args = {'bsz': bsz, 'k': 5, 'num_epochs': 100, 'patience': 5, 'save_top_k': 0, 'tblog_name': f'best_{mode}_kfold', 'enable_progress_bar': False}\n",
    "\n",
    "res_kfold_cv = kfold_cv(model_class, dataset, model_args, train_args)\n",
    "metrics = ['test_corr_epoch', 'test_r2_epoch']\n",
    "avg_res = {k: np.mean([res[k] for res in res_kfold_cv]).round(3) for k in metrics}\n",
    "print(f\"avg res over {train_args['k']} folds: {avg_res}\")"
   ]
  },
  {
   "cell_type": "markdown",
   "metadata": {},
   "source": [
    "## Task: Predict subtype & grade from multimodal data"
   ]
  },
  {
   "cell_type": "markdown",
   "metadata": {},
   "source": [
    "### Annotate subtype & grade from path reports"
   ]
  },
  {
   "cell_type": "code",
   "execution_count": 6,
   "metadata": {},
   "outputs": [
    {
     "name": "stderr",
     "output_type": "stream",
     "text": [
      "  0%|          | 0/1068 [00:00<?, ?it/s]"
     ]
    },
    {
     "name": "stderr",
     "output_type": "stream",
     "text": [
      " 21%|██        | 219/1068 [03:57<15:56,  1.13s/it]"
     ]
    },
    {
     "name": "stdout",
     "output_type": "stream",
     "text": [
      "error parsing output for TCGA-C8-A27A.txt...\n"
     ]
    },
    {
     "name": "stderr",
     "output_type": "stream",
     "text": [
      " 88%|████████▊ | 939/1068 [16:19<02:11,  1.02s/it]"
     ]
    },
    {
     "name": "stdout",
     "output_type": "stream",
     "text": [
      "HTTP error: 502 Server Error: Bad Gateway for url: https://api.openai.com/v1/chat/completions, retrying...\n"
     ]
    },
    {
     "name": "stderr",
     "output_type": "stream",
     "text": [
      " 99%|█████████▉| 1055/1068 [28:29<00:13,  1.06s/it]  "
     ]
    },
    {
     "name": "stdout",
     "output_type": "stream",
     "text": [
      "HTTP error: 502 Server Error: Bad Gateway for url: https://api.openai.com/v1/chat/completions, retrying...\n"
     ]
    },
    {
     "name": "stderr",
     "output_type": "stream",
     "text": [
      "100%|██████████| 1068/1068 [38:51<00:00,  2.18s/it] \n"
     ]
    },
    {
     "data": {
      "text/html": [
       "<div>\n",
       "<style scoped>\n",
       "    .dataframe tbody tr th:only-of-type {\n",
       "        vertical-align: middle;\n",
       "    }\n",
       "\n",
       "    .dataframe tbody tr th {\n",
       "        vertical-align: top;\n",
       "    }\n",
       "\n",
       "    .dataframe thead th {\n",
       "        text-align: right;\n",
       "    }\n",
       "</style>\n",
       "<table border=\"1\" class=\"dataframe\">\n",
       "  <thead>\n",
       "    <tr style=\"text-align: right;\">\n",
       "      <th></th>\n",
       "      <th>case_id</th>\n",
       "      <th>region</th>\n",
       "      <th>localization</th>\n",
       "      <th>grade</th>\n",
       "    </tr>\n",
       "  </thead>\n",
       "  <tbody>\n",
       "    <tr>\n",
       "      <th>13</th>\n",
       "      <td>TCGA-3C-AAAU</td>\n",
       "      <td>Lobular</td>\n",
       "      <td>Invasive</td>\n",
       "      <td>3</td>\n",
       "    </tr>\n",
       "    <tr>\n",
       "      <th>952</th>\n",
       "      <td>TCGA-3C-AALI</td>\n",
       "      <td>Ductal</td>\n",
       "      <td>Invasive</td>\n",
       "      <td>2</td>\n",
       "    </tr>\n",
       "    <tr>\n",
       "      <th>458</th>\n",
       "      <td>TCGA-3C-AALJ</td>\n",
       "      <td>Ductal</td>\n",
       "      <td>Invasive</td>\n",
       "      <td>3</td>\n",
       "    </tr>\n",
       "    <tr>\n",
       "      <th>701</th>\n",
       "      <td>TCGA-3C-AALK</td>\n",
       "      <td>ductal</td>\n",
       "      <td>invasive</td>\n",
       "      <td>NA</td>\n",
       "    </tr>\n",
       "    <tr>\n",
       "      <th>568</th>\n",
       "      <td>TCGA-4H-AAAK</td>\n",
       "      <td>Lobular</td>\n",
       "      <td>Invasive</td>\n",
       "      <td>2</td>\n",
       "    </tr>\n",
       "    <tr>\n",
       "      <th>420</th>\n",
       "      <td>TCGA-5L-AAT0</td>\n",
       "      <td>lobular</td>\n",
       "      <td>invasive</td>\n",
       "      <td>1</td>\n",
       "    </tr>\n",
       "    <tr>\n",
       "      <th>878</th>\n",
       "      <td>TCGA-5L-AAT1</td>\n",
       "      <td>lobular</td>\n",
       "      <td>invasive</td>\n",
       "      <td>1</td>\n",
       "    </tr>\n",
       "    <tr>\n",
       "      <th>341</th>\n",
       "      <td>TCGA-5T-A9QA</td>\n",
       "      <td>Ductal (as the report mentions \"invasive ducta...</td>\n",
       "      <td>Invasive (as the report mentions \"invasive car...</td>\n",
       "      <td>3 (as the report mentions \"Histologic Grade</td>\n",
       "    </tr>\n",
       "    <tr>\n",
       "      <th>1051</th>\n",
       "      <td>TCGA-A1-A0SB</td>\n",
       "      <td>other (adenoid cystic carcinoma)</td>\n",
       "      <td>invasive</td>\n",
       "      <td>1</td>\n",
       "    </tr>\n",
       "    <tr>\n",
       "      <th>371</th>\n",
       "      <td>TCGA-A1-A0SD</td>\n",
       "      <td>Ductal</td>\n",
       "      <td>Invasive</td>\n",
       "      <td>Grade 2</td>\n",
       "    </tr>\n",
       "  </tbody>\n",
       "</table>\n",
       "</div>"
      ],
      "text/plain": [
       "           case_id                                             region  \\\n",
       "13    TCGA-3C-AAAU                                            Lobular   \n",
       "952   TCGA-3C-AALI                                             Ductal   \n",
       "458   TCGA-3C-AALJ                                             Ductal   \n",
       "701   TCGA-3C-AALK                                             ductal   \n",
       "568   TCGA-4H-AAAK                                            Lobular   \n",
       "420   TCGA-5L-AAT0                                            lobular   \n",
       "878   TCGA-5L-AAT1                                            lobular   \n",
       "341   TCGA-5T-A9QA  Ductal (as the report mentions \"invasive ducta...   \n",
       "1051  TCGA-A1-A0SB                   other (adenoid cystic carcinoma)   \n",
       "371   TCGA-A1-A0SD                                             Ductal   \n",
       "\n",
       "                                           localization  \\\n",
       "13                                             Invasive   \n",
       "952                                            Invasive   \n",
       "458                                            Invasive   \n",
       "701                                            invasive   \n",
       "568                                            Invasive   \n",
       "420                                            invasive   \n",
       "878                                            invasive   \n",
       "341   Invasive (as the report mentions \"invasive car...   \n",
       "1051                                           invasive   \n",
       "371                                            Invasive   \n",
       "\n",
       "                                            grade  \n",
       "13                                              3  \n",
       "952                                             2  \n",
       "458                                             3  \n",
       "701                                            NA  \n",
       "568                                             2  \n",
       "420                                             1  \n",
       "878                                             1  \n",
       "341   3 (as the report mentions \"Histologic Grade  \n",
       "1051                                            1  \n",
       "371                                       Grade 2  "
      ]
     },
     "execution_count": 6,
     "metadata": {},
     "output_type": "execute_result"
    }
   ],
   "source": [
    "%%script false --no-raise-error\n",
    "lm_name = 'gpt-3.5-turbo'\n",
    "\n",
    "# sample_report_path = 'data/reports_distilled/TCGA-WT-AB41.txt'\n",
    "reports_dir = 'data/reports_distilled'\n",
    "# create prompt\n",
    "# prompt = create_zs_prompt(sample_report_path)\n",
    "\n",
    "# args for generation\n",
    "gen_args = {'max_tokens': 200}\n",
    "\n",
    "# out = gen_subtype_grade_zs(lm_name, prompt, api='openai', args=gen_args)\n",
    "df_res = classify_reports_zs(lm_name, reports_dir, api='openai', args=gen_args)\n",
    "df_res.head(10)"
   ]
  },
  {
   "cell_type": "markdown",
   "metadata": {},
   "source": [
    "### Train & eval model"
   ]
  },
  {
   "cell_type": "markdown",
   "metadata": {},
   "source": [
    "### Set hparams"
   ]
  },
  {
   "cell_type": "code",
   "execution_count": 2,
   "metadata": {},
   "outputs": [],
   "source": [
    "bsz = 128 # batch size for dataloaders\n",
    "img_channels_in = 2048  # emb dim of wsi feats\n",
    "text_channels_in = 1024 # emb dim of report feats"
   ]
  },
  {
   "cell_type": "markdown",
   "metadata": {},
   "source": [
    "### Load data"
   ]
  },
  {
   "cell_type": "code",
   "execution_count": 3,
   "metadata": {},
   "outputs": [
    {
     "name": "stdout",
     "output_type": "stream",
     "text": [
      "size of train set: 855, val set: 107, test set: 107\n"
     ]
    }
   ],
   "source": [
    "# Create the dataset\n",
    "root_dir = './'\n",
    "data_file_stils = 'data/data_subtype_grade.csv'\n",
    "use_rand_splits = False # use random splits or predefined splits\n",
    "train_data = MMDataset(root_dir, data_file_stils, 'train', use_rand_splits)\n",
    "val_data = MMDataset(root_dir, data_file_stils, 'val', use_rand_splits)\n",
    "test_data = MMDataset(root_dir, data_file_stils, 'test', use_rand_splits)\n",
    "\n",
    "print(f'size of train set: {len(train_data)}, val set: {len(val_data)}, test set: {len(test_data)}')\n",
    "\n",
    "# Create the dataloaders\n",
    "train_loader = DataLoader(train_data, batch_size=bsz, shuffle=True, num_workers=12, collate_fn=MMDataset.mm_collate_fn)\n",
    "val_loader = DataLoader(val_data, batch_size=bsz, shuffle=False, num_workers=12, collate_fn=MMDataset.mm_collate_fn)\n",
    "test_loader = DataLoader(test_data, batch_size=bsz, shuffle=False, num_workers=12, collate_fn=MMDataset.mm_collate_fn)"
   ]
  },
  {
   "cell_type": "markdown",
   "metadata": {},
   "source": [
    "### Train & eval"
   ]
  },
  {
   "cell_type": "code",
   "execution_count": null,
   "metadata": {},
   "outputs": [],
   "source": [
    "# init model\n",
    "mode = 'multimodal'  # input modalities: 'text', 'img', or 'multimodal'\n",
    "target = 'grade'  # prediction target: 'region', 'localization', or 'grade'\n",
    "split = 'def'   # dataset split: 'def' or 'rand'\n",
    "model = Attention1DClassifier(mode=mode, target=target)\n",
    "\n",
    "# set training args\n",
    "args = {'num_epochs': 100, 'ckpt_name': f'ckpt_best_{mode}_{split}_split', 'resume_ckpt': None, 'tblog_name': f'best_{mode}_{split}_split'}\n",
    "\n",
    "# train model\n",
    "model, trainer = train_mm(model, train_loader, val_loader, args)\n",
    "\n",
    "# evaluate the trained model on the test set\n",
    "trainer.test(model, test_loader)"
   ]
  },
  {
   "cell_type": "markdown",
   "metadata": {},
   "source": [
    "### K-fold CV"
   ]
  },
  {
   "cell_type": "code",
   "execution_count": 3,
   "metadata": {},
   "outputs": [
    {
     "name": "stderr",
     "output_type": "stream",
     "text": [
      "GPU available: True (cuda), used: True\n",
      "TPU available: False, using: 0 TPU cores\n",
      "IPU available: False, using: 0 IPUs\n",
      "HPU available: False, using: 0 HPUs\n"
     ]
    },
    {
     "name": "stdout",
     "output_type": "stream",
     "text": [
      "training fold 1/5\n"
     ]
    },
    {
     "name": "stderr",
     "output_type": "stream",
     "text": [
      "You are using a CUDA device ('NVIDIA A100-SXM4-40GB') that has Tensor Cores. To properly utilize them, you should set `torch.set_float32_matmul_precision('medium' | 'high')` which will trade-off precision for performance. For more details, read https://pytorch.org/docs/stable/generated/torch.set_float32_matmul_precision.html#torch.set_float32_matmul_precision\n",
      "LOCAL_RANK: 0 - CUDA_VISIBLE_DEVICES: [0]\n",
      "\n",
      "  | Name       | Type               | Params\n",
      "--------------------------------------------------\n",
      "0 | attention  | Sequential         | 278 K \n",
      "1 | classifier | Sequential         | 12.3 K\n",
      "2 | loss       | CrossEntropyLoss   | 0     \n",
      "3 | acc        | MulticlassAccuracy | 0     \n",
      "--------------------------------------------------\n",
      "291 K     Trainable params\n",
      "0         Non-trainable params\n",
      "291 K     Total params\n",
      "1.165     Total estimated model params size (MB)\n",
      "Metric val_loss improved. New best score: 1.198\n",
      "Metric val_loss improved by 0.002 >= min_delta = 0.0. New best score: 1.196\n",
      "Metric val_loss improved by 0.014 >= min_delta = 0.0. New best score: 1.183\n",
      "Metric val_loss improved by 0.006 >= min_delta = 0.0. New best score: 1.177\n",
      "Metric val_loss improved by 0.002 >= min_delta = 0.0. New best score: 1.175\n",
      "Metric val_loss improved by 0.013 >= min_delta = 0.0. New best score: 1.162\n",
      "Metric val_loss improved by 0.015 >= min_delta = 0.0. New best score: 1.147\n",
      "Metric val_loss improved by 0.013 >= min_delta = 0.0. New best score: 1.135\n",
      "Metric val_loss improved by 0.008 >= min_delta = 0.0. New best score: 1.126\n",
      "Metric val_loss improved by 0.008 >= min_delta = 0.0. New best score: 1.118\n",
      "Metric val_loss improved by 0.012 >= min_delta = 0.0. New best score: 1.106\n",
      "Metric val_loss improved by 0.010 >= min_delta = 0.0. New best score: 1.097\n",
      "Metric val_loss improved by 0.004 >= min_delta = 0.0. New best score: 1.093\n",
      "Metric val_loss improved by 0.014 >= min_delta = 0.0. New best score: 1.078\n",
      "Metric val_loss improved by 0.005 >= min_delta = 0.0. New best score: 1.073\n",
      "Metric val_loss improved by 0.009 >= min_delta = 0.0. New best score: 1.065\n",
      "Metric val_loss improved by 0.008 >= min_delta = 0.0. New best score: 1.056\n",
      "Metric val_loss improved by 0.009 >= min_delta = 0.0. New best score: 1.047\n",
      "Metric val_loss improved by 0.017 >= min_delta = 0.0. New best score: 1.030\n",
      "Metric val_loss improved by 0.004 >= min_delta = 0.0. New best score: 1.026\n",
      "Metric val_loss improved by 0.006 >= min_delta = 0.0. New best score: 1.019\n",
      "Metric val_loss improved by 0.006 >= min_delta = 0.0. New best score: 1.014\n",
      "Metric val_loss improved by 0.004 >= min_delta = 0.0. New best score: 1.009\n",
      "Metric val_loss improved by 0.003 >= min_delta = 0.0. New best score: 1.006\n",
      "Monitored metric val_loss did not improve in the last 5 records. Best score: 1.006. Signaling Trainer to stop.\n",
      "LOCAL_RANK: 0 - CUDA_VISIBLE_DEVICES: [0]\n"
     ]
    },
    {
     "name": "stdout",
     "output_type": "stream",
     "text": [
      "training on device: cpu\n"
     ]
    },
    {
     "data": {
      "text/html": [
       "<pre style=\"white-space:pre;overflow-x:auto;line-height:normal;font-family:Menlo,'DejaVu Sans Mono',consolas,'Courier New',monospace\">┏━━━━━━━━━━━━━━━━━━━━━━━━━━━┳━━━━━━━━━━━━━━━━━━━━━━━━━━━┓\n",
       "┃<span style=\"font-weight: bold\">   Runningstage.testing    </span>┃<span style=\"font-weight: bold\">                           </span>┃\n",
       "┃<span style=\"font-weight: bold\">          metric           </span>┃<span style=\"font-weight: bold\">       DataLoader 0        </span>┃\n",
       "┡━━━━━━━━━━━━━━━━━━━━━━━━━━━╇━━━━━━━━━━━━━━━━━━━━━━━━━━━┩\n",
       "│<span style=\"color: #008080; text-decoration-color: #008080\">      test_acc_epoch       </span>│<span style=\"color: #800080; text-decoration-color: #800080\">    0.5467289686203003     </span>│\n",
       "│<span style=\"color: #008080; text-decoration-color: #008080\">      test_loss_epoch      </span>│<span style=\"color: #800080; text-decoration-color: #800080\">    1.0111089944839478     </span>│\n",
       "└───────────────────────────┴───────────────────────────┘\n",
       "</pre>\n"
      ],
      "text/plain": [
       "┏━━━━━━━━━━━━━━━━━━━━━━━━━━━┳━━━━━━━━━━━━━━━━━━━━━━━━━━━┓\n",
       "┃\u001b[1m \u001b[0m\u001b[1m  Runningstage.testing   \u001b[0m\u001b[1m \u001b[0m┃\u001b[1m                           \u001b[0m┃\n",
       "┃\u001b[1m \u001b[0m\u001b[1m         metric          \u001b[0m\u001b[1m \u001b[0m┃\u001b[1m \u001b[0m\u001b[1m      DataLoader 0       \u001b[0m\u001b[1m \u001b[0m┃\n",
       "┡━━━━━━━━━━━━━━━━━━━━━━━━━━━╇━━━━━━━━━━━━━━━━━━━━━━━━━━━┩\n",
       "│\u001b[36m \u001b[0m\u001b[36m     test_acc_epoch      \u001b[0m\u001b[36m \u001b[0m│\u001b[35m \u001b[0m\u001b[35m   0.5467289686203003    \u001b[0m\u001b[35m \u001b[0m│\n",
       "│\u001b[36m \u001b[0m\u001b[36m     test_loss_epoch     \u001b[0m\u001b[36m \u001b[0m│\u001b[35m \u001b[0m\u001b[35m   1.0111089944839478    \u001b[0m\u001b[35m \u001b[0m│\n",
       "└───────────────────────────┴───────────────────────────┘\n"
      ]
     },
     "metadata": {},
     "output_type": "display_data"
    },
    {
     "name": "stderr",
     "output_type": "stream",
     "text": [
      "GPU available: True (cuda), used: True\n",
      "TPU available: False, using: 0 TPU cores\n",
      "IPU available: False, using: 0 IPUs\n",
      "HPU available: False, using: 0 HPUs\n",
      "LOCAL_RANK: 0 - CUDA_VISIBLE_DEVICES: [0]\n",
      "\n",
      "  | Name       | Type               | Params\n",
      "--------------------------------------------------\n",
      "0 | attention  | Sequential         | 278 K \n",
      "1 | classifier | Sequential         | 12.3 K\n",
      "2 | loss       | CrossEntropyLoss   | 0     \n",
      "3 | acc        | MulticlassAccuracy | 0     \n",
      "--------------------------------------------------\n",
      "291 K     Trainable params\n",
      "0         Non-trainable params\n",
      "291 K     Total params\n",
      "1.165     Total estimated model params size (MB)\n"
     ]
    },
    {
     "name": "stdout",
     "output_type": "stream",
     "text": [
      "training fold 2/5\n"
     ]
    },
    {
     "name": "stderr",
     "output_type": "stream",
     "text": [
      "Metric val_loss improved. New best score: 1.261\n",
      "Metric val_loss improved by 0.053 >= min_delta = 0.0. New best score: 1.208\n",
      "Metric val_loss improved by 0.004 >= min_delta = 0.0. New best score: 1.204\n",
      "Metric val_loss improved by 0.010 >= min_delta = 0.0. New best score: 1.194\n",
      "Metric val_loss improved by 0.004 >= min_delta = 0.0. New best score: 1.190\n",
      "Metric val_loss improved by 0.021 >= min_delta = 0.0. New best score: 1.169\n",
      "Metric val_loss improved by 0.001 >= min_delta = 0.0. New best score: 1.167\n",
      "Metric val_loss improved by 0.017 >= min_delta = 0.0. New best score: 1.151\n",
      "Metric val_loss improved by 0.003 >= min_delta = 0.0. New best score: 1.148\n",
      "Metric val_loss improved by 0.016 >= min_delta = 0.0. New best score: 1.132\n",
      "Metric val_loss improved by 0.003 >= min_delta = 0.0. New best score: 1.129\n",
      "Metric val_loss improved by 0.002 >= min_delta = 0.0. New best score: 1.127\n",
      "Metric val_loss improved by 0.012 >= min_delta = 0.0. New best score: 1.115\n",
      "Metric val_loss improved by 0.005 >= min_delta = 0.0. New best score: 1.110\n",
      "Metric val_loss improved by 0.004 >= min_delta = 0.0. New best score: 1.105\n",
      "Metric val_loss improved by 0.010 >= min_delta = 0.0. New best score: 1.096\n",
      "Metric val_loss improved by 0.013 >= min_delta = 0.0. New best score: 1.083\n",
      "Metric val_loss improved by 0.001 >= min_delta = 0.0. New best score: 1.082\n",
      "Monitored metric val_loss did not improve in the last 5 records. Best score: 1.082. Signaling Trainer to stop.\n",
      "LOCAL_RANK: 0 - CUDA_VISIBLE_DEVICES: [0]\n"
     ]
    },
    {
     "name": "stdout",
     "output_type": "stream",
     "text": [
      "training on device: cpu\n"
     ]
    },
    {
     "data": {
      "text/html": [
       "<pre style=\"white-space:pre;overflow-x:auto;line-height:normal;font-family:Menlo,'DejaVu Sans Mono',consolas,'Courier New',monospace\">┏━━━━━━━━━━━━━━━━━━━━━━━━━━━┳━━━━━━━━━━━━━━━━━━━━━━━━━━━┓\n",
       "┃<span style=\"font-weight: bold\">   Runningstage.testing    </span>┃<span style=\"font-weight: bold\">                           </span>┃\n",
       "┃<span style=\"font-weight: bold\">          metric           </span>┃<span style=\"font-weight: bold\">       DataLoader 0        </span>┃\n",
       "┡━━━━━━━━━━━━━━━━━━━━━━━━━━━╇━━━━━━━━━━━━━━━━━━━━━━━━━━━┩\n",
       "│<span style=\"color: #008080; text-decoration-color: #008080\">      test_acc_epoch       </span>│<span style=\"color: #800080; text-decoration-color: #800080\">    0.5467289686203003     </span>│\n",
       "│<span style=\"color: #008080; text-decoration-color: #008080\">      test_loss_epoch      </span>│<span style=\"color: #800080; text-decoration-color: #800080\">    1.0921610593795776     </span>│\n",
       "└───────────────────────────┴───────────────────────────┘\n",
       "</pre>\n"
      ],
      "text/plain": [
       "┏━━━━━━━━━━━━━━━━━━━━━━━━━━━┳━━━━━━━━━━━━━━━━━━━━━━━━━━━┓\n",
       "┃\u001b[1m \u001b[0m\u001b[1m  Runningstage.testing   \u001b[0m\u001b[1m \u001b[0m┃\u001b[1m                           \u001b[0m┃\n",
       "┃\u001b[1m \u001b[0m\u001b[1m         metric          \u001b[0m\u001b[1m \u001b[0m┃\u001b[1m \u001b[0m\u001b[1m      DataLoader 0       \u001b[0m\u001b[1m \u001b[0m┃\n",
       "┡━━━━━━━━━━━━━━━━━━━━━━━━━━━╇━━━━━━━━━━━━━━━━━━━━━━━━━━━┩\n",
       "│\u001b[36m \u001b[0m\u001b[36m     test_acc_epoch      \u001b[0m\u001b[36m \u001b[0m│\u001b[35m \u001b[0m\u001b[35m   0.5467289686203003    \u001b[0m\u001b[35m \u001b[0m│\n",
       "│\u001b[36m \u001b[0m\u001b[36m     test_loss_epoch     \u001b[0m\u001b[36m \u001b[0m│\u001b[35m \u001b[0m\u001b[35m   1.0921610593795776    \u001b[0m\u001b[35m \u001b[0m│\n",
       "└───────────────────────────┴───────────────────────────┘\n"
      ]
     },
     "metadata": {},
     "output_type": "display_data"
    },
    {
     "name": "stderr",
     "output_type": "stream",
     "text": [
      "GPU available: True (cuda), used: True\n",
      "TPU available: False, using: 0 TPU cores\n",
      "IPU available: False, using: 0 IPUs\n",
      "HPU available: False, using: 0 HPUs\n",
      "LOCAL_RANK: 0 - CUDA_VISIBLE_DEVICES: [0]\n",
      "\n",
      "  | Name       | Type               | Params\n",
      "--------------------------------------------------\n",
      "0 | attention  | Sequential         | 278 K \n",
      "1 | classifier | Sequential         | 12.3 K\n",
      "2 | loss       | CrossEntropyLoss   | 0     \n",
      "3 | acc        | MulticlassAccuracy | 0     \n",
      "--------------------------------------------------\n",
      "291 K     Trainable params\n",
      "0         Non-trainable params\n",
      "291 K     Total params\n",
      "1.165     Total estimated model params size (MB)\n"
     ]
    },
    {
     "name": "stdout",
     "output_type": "stream",
     "text": [
      "training fold 3/5\n"
     ]
    },
    {
     "name": "stderr",
     "output_type": "stream",
     "text": [
      "Metric val_loss improved. New best score: 1.256\n",
      "Metric val_loss improved by 0.061 >= min_delta = 0.0. New best score: 1.195\n",
      "Metric val_loss improved by 0.001 >= min_delta = 0.0. New best score: 1.194\n",
      "Metric val_loss improved by 0.010 >= min_delta = 0.0. New best score: 1.184\n",
      "Metric val_loss improved by 0.006 >= min_delta = 0.0. New best score: 1.179\n",
      "Metric val_loss improved by 0.002 >= min_delta = 0.0. New best score: 1.177\n",
      "Metric val_loss improved by 0.017 >= min_delta = 0.0. New best score: 1.160\n",
      "Metric val_loss improved by 0.008 >= min_delta = 0.0. New best score: 1.152\n",
      "Metric val_loss improved by 0.007 >= min_delta = 0.0. New best score: 1.145\n",
      "Metric val_loss improved by 0.010 >= min_delta = 0.0. New best score: 1.135\n",
      "Metric val_loss improved by 0.002 >= min_delta = 0.0. New best score: 1.133\n",
      "Metric val_loss improved by 0.005 >= min_delta = 0.0. New best score: 1.128\n",
      "Metric val_loss improved by 0.008 >= min_delta = 0.0. New best score: 1.120\n",
      "Metric val_loss improved by 0.000 >= min_delta = 0.0. New best score: 1.120\n",
      "Metric val_loss improved by 0.007 >= min_delta = 0.0. New best score: 1.113\n",
      "Metric val_loss improved by 0.000 >= min_delta = 0.0. New best score: 1.113\n",
      "Metric val_loss improved by 0.007 >= min_delta = 0.0. New best score: 1.106\n",
      "Metric val_loss improved by 0.001 >= min_delta = 0.0. New best score: 1.105\n",
      "Metric val_loss improved by 0.008 >= min_delta = 0.0. New best score: 1.097\n",
      "Metric val_loss improved by 0.000 >= min_delta = 0.0. New best score: 1.097\n",
      "Metric val_loss improved by 0.000 >= min_delta = 0.0. New best score: 1.097\n",
      "Metric val_loss improved by 0.009 >= min_delta = 0.0. New best score: 1.087\n",
      "Metric val_loss improved by 0.003 >= min_delta = 0.0. New best score: 1.084\n",
      "Monitored metric val_loss did not improve in the last 5 records. Best score: 1.084. Signaling Trainer to stop.\n",
      "LOCAL_RANK: 0 - CUDA_VISIBLE_DEVICES: [0]\n"
     ]
    },
    {
     "name": "stdout",
     "output_type": "stream",
     "text": [
      "training on device: cpu\n"
     ]
    },
    {
     "data": {
      "text/html": [
       "<pre style=\"white-space:pre;overflow-x:auto;line-height:normal;font-family:Menlo,'DejaVu Sans Mono',consolas,'Courier New',monospace\">┏━━━━━━━━━━━━━━━━━━━━━━━━━━━┳━━━━━━━━━━━━━━━━━━━━━━━━━━━┓\n",
       "┃<span style=\"font-weight: bold\">   Runningstage.testing    </span>┃<span style=\"font-weight: bold\">                           </span>┃\n",
       "┃<span style=\"font-weight: bold\">          metric           </span>┃<span style=\"font-weight: bold\">       DataLoader 0        </span>┃\n",
       "┡━━━━━━━━━━━━━━━━━━━━━━━━━━━╇━━━━━━━━━━━━━━━━━━━━━━━━━━━┩\n",
       "│<span style=\"color: #008080; text-decoration-color: #008080\">      test_acc_epoch       </span>│<span style=\"color: #800080; text-decoration-color: #800080\">    0.5373831987380981     </span>│\n",
       "│<span style=\"color: #008080; text-decoration-color: #008080\">      test_loss_epoch      </span>│<span style=\"color: #800080; text-decoration-color: #800080\">    1.1031893491744995     </span>│\n",
       "└───────────────────────────┴───────────────────────────┘\n",
       "</pre>\n"
      ],
      "text/plain": [
       "┏━━━━━━━━━━━━━━━━━━━━━━━━━━━┳━━━━━━━━━━━━━━━━━━━━━━━━━━━┓\n",
       "┃\u001b[1m \u001b[0m\u001b[1m  Runningstage.testing   \u001b[0m\u001b[1m \u001b[0m┃\u001b[1m                           \u001b[0m┃\n",
       "┃\u001b[1m \u001b[0m\u001b[1m         metric          \u001b[0m\u001b[1m \u001b[0m┃\u001b[1m \u001b[0m\u001b[1m      DataLoader 0       \u001b[0m\u001b[1m \u001b[0m┃\n",
       "┡━━━━━━━━━━━━━━━━━━━━━━━━━━━╇━━━━━━━━━━━━━━━━━━━━━━━━━━━┩\n",
       "│\u001b[36m \u001b[0m\u001b[36m     test_acc_epoch      \u001b[0m\u001b[36m \u001b[0m│\u001b[35m \u001b[0m\u001b[35m   0.5373831987380981    \u001b[0m\u001b[35m \u001b[0m│\n",
       "│\u001b[36m \u001b[0m\u001b[36m     test_loss_epoch     \u001b[0m\u001b[36m \u001b[0m│\u001b[35m \u001b[0m\u001b[35m   1.1031893491744995    \u001b[0m\u001b[35m \u001b[0m│\n",
       "└───────────────────────────┴───────────────────────────┘\n"
      ]
     },
     "metadata": {},
     "output_type": "display_data"
    },
    {
     "name": "stderr",
     "output_type": "stream",
     "text": [
      "GPU available: True (cuda), used: True\n",
      "TPU available: False, using: 0 TPU cores\n",
      "IPU available: False, using: 0 IPUs\n",
      "HPU available: False, using: 0 HPUs\n",
      "LOCAL_RANK: 0 - CUDA_VISIBLE_DEVICES: [0]\n",
      "\n",
      "  | Name       | Type               | Params\n",
      "--------------------------------------------------\n",
      "0 | attention  | Sequential         | 278 K \n",
      "1 | classifier | Sequential         | 12.3 K\n",
      "2 | loss       | CrossEntropyLoss   | 0     \n",
      "3 | acc        | MulticlassAccuracy | 0     \n",
      "--------------------------------------------------\n",
      "291 K     Trainable params\n",
      "0         Non-trainable params\n",
      "291 K     Total params\n",
      "1.165     Total estimated model params size (MB)\n"
     ]
    },
    {
     "name": "stdout",
     "output_type": "stream",
     "text": [
      "training fold 4/5\n"
     ]
    },
    {
     "name": "stderr",
     "output_type": "stream",
     "text": [
      "Metric val_loss improved. New best score: 1.213\n",
      "Metric val_loss improved by 0.002 >= min_delta = 0.0. New best score: 1.210\n",
      "Metric val_loss improved by 0.019 >= min_delta = 0.0. New best score: 1.191\n",
      "Metric val_loss improved by 0.008 >= min_delta = 0.0. New best score: 1.183\n",
      "Metric val_loss improved by 0.012 >= min_delta = 0.0. New best score: 1.171\n",
      "Metric val_loss improved by 0.016 >= min_delta = 0.0. New best score: 1.155\n",
      "Metric val_loss improved by 0.002 >= min_delta = 0.0. New best score: 1.153\n",
      "Metric val_loss improved by 0.014 >= min_delta = 0.0. New best score: 1.139\n",
      "Metric val_loss improved by 0.006 >= min_delta = 0.0. New best score: 1.133\n",
      "Metric val_loss improved by 0.016 >= min_delta = 0.0. New best score: 1.117\n",
      "Metric val_loss improved by 0.007 >= min_delta = 0.0. New best score: 1.110\n",
      "Metric val_loss improved by 0.013 >= min_delta = 0.0. New best score: 1.098\n",
      "Metric val_loss improved by 0.012 >= min_delta = 0.0. New best score: 1.086\n",
      "Metric val_loss improved by 0.003 >= min_delta = 0.0. New best score: 1.083\n",
      "Metric val_loss improved by 0.008 >= min_delta = 0.0. New best score: 1.075\n",
      "Metric val_loss improved by 0.005 >= min_delta = 0.0. New best score: 1.071\n",
      "Metric val_loss improved by 0.010 >= min_delta = 0.0. New best score: 1.061\n",
      "Metric val_loss improved by 0.005 >= min_delta = 0.0. New best score: 1.055\n",
      "Metric val_loss improved by 0.006 >= min_delta = 0.0. New best score: 1.049\n",
      "Metric val_loss improved by 0.004 >= min_delta = 0.0. New best score: 1.045\n",
      "Metric val_loss improved by 0.007 >= min_delta = 0.0. New best score: 1.038\n",
      "Monitored metric val_loss did not improve in the last 5 records. Best score: 1.038. Signaling Trainer to stop.\n",
      "LOCAL_RANK: 0 - CUDA_VISIBLE_DEVICES: [0]\n"
     ]
    },
    {
     "name": "stdout",
     "output_type": "stream",
     "text": [
      "training on device: cpu\n"
     ]
    },
    {
     "data": {
      "text/html": [
       "<pre style=\"white-space:pre;overflow-x:auto;line-height:normal;font-family:Menlo,'DejaVu Sans Mono',consolas,'Courier New',monospace\">┏━━━━━━━━━━━━━━━━━━━━━━━━━━━┳━━━━━━━━━━━━━━━━━━━━━━━━━━━┓\n",
       "┃<span style=\"font-weight: bold\">   Runningstage.testing    </span>┃<span style=\"font-weight: bold\">                           </span>┃\n",
       "┃<span style=\"font-weight: bold\">          metric           </span>┃<span style=\"font-weight: bold\">       DataLoader 0        </span>┃\n",
       "┡━━━━━━━━━━━━━━━━━━━━━━━━━━━╇━━━━━━━━━━━━━━━━━━━━━━━━━━━┩\n",
       "│<span style=\"color: #008080; text-decoration-color: #008080\">      test_acc_epoch       </span>│<span style=\"color: #800080; text-decoration-color: #800080\">    0.5654205679893494     </span>│\n",
       "│<span style=\"color: #008080; text-decoration-color: #008080\">      test_loss_epoch      </span>│<span style=\"color: #800080; text-decoration-color: #800080\">    1.0378979444503784     </span>│\n",
       "└───────────────────────────┴───────────────────────────┘\n",
       "</pre>\n"
      ],
      "text/plain": [
       "┏━━━━━━━━━━━━━━━━━━━━━━━━━━━┳━━━━━━━━━━━━━━━━━━━━━━━━━━━┓\n",
       "┃\u001b[1m \u001b[0m\u001b[1m  Runningstage.testing   \u001b[0m\u001b[1m \u001b[0m┃\u001b[1m                           \u001b[0m┃\n",
       "┃\u001b[1m \u001b[0m\u001b[1m         metric          \u001b[0m\u001b[1m \u001b[0m┃\u001b[1m \u001b[0m\u001b[1m      DataLoader 0       \u001b[0m\u001b[1m \u001b[0m┃\n",
       "┡━━━━━━━━━━━━━━━━━━━━━━━━━━━╇━━━━━━━━━━━━━━━━━━━━━━━━━━━┩\n",
       "│\u001b[36m \u001b[0m\u001b[36m     test_acc_epoch      \u001b[0m\u001b[36m \u001b[0m│\u001b[35m \u001b[0m\u001b[35m   0.5654205679893494    \u001b[0m\u001b[35m \u001b[0m│\n",
       "│\u001b[36m \u001b[0m\u001b[36m     test_loss_epoch     \u001b[0m\u001b[36m \u001b[0m│\u001b[35m \u001b[0m\u001b[35m   1.0378979444503784    \u001b[0m\u001b[35m \u001b[0m│\n",
       "└───────────────────────────┴───────────────────────────┘\n"
      ]
     },
     "metadata": {},
     "output_type": "display_data"
    },
    {
     "name": "stderr",
     "output_type": "stream",
     "text": [
      "GPU available: True (cuda), used: True\n",
      "TPU available: False, using: 0 TPU cores\n",
      "IPU available: False, using: 0 IPUs\n",
      "HPU available: False, using: 0 HPUs\n",
      "LOCAL_RANK: 0 - CUDA_VISIBLE_DEVICES: [0]\n",
      "\n",
      "  | Name       | Type               | Params\n",
      "--------------------------------------------------\n",
      "0 | attention  | Sequential         | 278 K \n",
      "1 | classifier | Sequential         | 12.3 K\n",
      "2 | loss       | CrossEntropyLoss   | 0     \n",
      "3 | acc        | MulticlassAccuracy | 0     \n",
      "--------------------------------------------------\n",
      "291 K     Trainable params\n",
      "0         Non-trainable params\n",
      "291 K     Total params\n",
      "1.165     Total estimated model params size (MB)\n"
     ]
    },
    {
     "name": "stdout",
     "output_type": "stream",
     "text": [
      "training fold 5/5\n"
     ]
    },
    {
     "name": "stderr",
     "output_type": "stream",
     "text": [
      "Metric val_loss improved. New best score: 1.209\n",
      "Metric val_loss improved by 0.031 >= min_delta = 0.0. New best score: 1.177\n",
      "Metric val_loss improved by 0.008 >= min_delta = 0.0. New best score: 1.170\n",
      "Metric val_loss improved by 0.011 >= min_delta = 0.0. New best score: 1.159\n",
      "Metric val_loss improved by 0.002 >= min_delta = 0.0. New best score: 1.158\n",
      "Metric val_loss improved by 0.009 >= min_delta = 0.0. New best score: 1.149\n",
      "Metric val_loss improved by 0.010 >= min_delta = 0.0. New best score: 1.139\n",
      "Metric val_loss improved by 0.014 >= min_delta = 0.0. New best score: 1.125\n",
      "Metric val_loss improved by 0.018 >= min_delta = 0.0. New best score: 1.107\n",
      "Metric val_loss improved by 0.010 >= min_delta = 0.0. New best score: 1.097\n",
      "Metric val_loss improved by 0.014 >= min_delta = 0.0. New best score: 1.083\n",
      "Metric val_loss improved by 0.007 >= min_delta = 0.0. New best score: 1.075\n",
      "Metric val_loss improved by 0.008 >= min_delta = 0.0. New best score: 1.067\n",
      "Metric val_loss improved by 0.016 >= min_delta = 0.0. New best score: 1.051\n",
      "Metric val_loss improved by 0.009 >= min_delta = 0.0. New best score: 1.042\n",
      "Metric val_loss improved by 0.010 >= min_delta = 0.0. New best score: 1.032\n",
      "Metric val_loss improved by 0.009 >= min_delta = 0.0. New best score: 1.022\n",
      "Metric val_loss improved by 0.004 >= min_delta = 0.0. New best score: 1.019\n",
      "Metric val_loss improved by 0.019 >= min_delta = 0.0. New best score: 1.000\n",
      "Metric val_loss improved by 0.010 >= min_delta = 0.0. New best score: 0.989\n",
      "Metric val_loss improved by 0.008 >= min_delta = 0.0. New best score: 0.981\n",
      "Metric val_loss improved by 0.006 >= min_delta = 0.0. New best score: 0.975\n",
      "Metric val_loss improved by 0.008 >= min_delta = 0.0. New best score: 0.968\n",
      "Metric val_loss improved by 0.002 >= min_delta = 0.0. New best score: 0.965\n",
      "Monitored metric val_loss did not improve in the last 5 records. Best score: 0.965. Signaling Trainer to stop.\n",
      "LOCAL_RANK: 0 - CUDA_VISIBLE_DEVICES: [0]\n"
     ]
    },
    {
     "name": "stdout",
     "output_type": "stream",
     "text": [
      "training on device: cpu\n"
     ]
    },
    {
     "data": {
      "text/html": [
       "<pre style=\"white-space:pre;overflow-x:auto;line-height:normal;font-family:Menlo,'DejaVu Sans Mono',consolas,'Courier New',monospace\">┏━━━━━━━━━━━━━━━━━━━━━━━━━━━┳━━━━━━━━━━━━━━━━━━━━━━━━━━━┓\n",
       "┃<span style=\"font-weight: bold\">   Runningstage.testing    </span>┃<span style=\"font-weight: bold\">                           </span>┃\n",
       "┃<span style=\"font-weight: bold\">          metric           </span>┃<span style=\"font-weight: bold\">       DataLoader 0        </span>┃\n",
       "┡━━━━━━━━━━━━━━━━━━━━━━━━━━━╇━━━━━━━━━━━━━━━━━━━━━━━━━━━┩\n",
       "│<span style=\"color: #008080; text-decoration-color: #008080\">      test_acc_epoch       </span>│<span style=\"color: #800080; text-decoration-color: #800080\">    0.6009389758110046     </span>│\n",
       "│<span style=\"color: #008080; text-decoration-color: #008080\">      test_loss_epoch      </span>│<span style=\"color: #800080; text-decoration-color: #800080\">    0.9757962822914124     </span>│\n",
       "└───────────────────────────┴───────────────────────────┘\n",
       "</pre>\n"
      ],
      "text/plain": [
       "┏━━━━━━━━━━━━━━━━━━━━━━━━━━━┳━━━━━━━━━━━━━━━━━━━━━━━━━━━┓\n",
       "┃\u001b[1m \u001b[0m\u001b[1m  Runningstage.testing   \u001b[0m\u001b[1m \u001b[0m┃\u001b[1m                           \u001b[0m┃\n",
       "┃\u001b[1m \u001b[0m\u001b[1m         metric          \u001b[0m\u001b[1m \u001b[0m┃\u001b[1m \u001b[0m\u001b[1m      DataLoader 0       \u001b[0m\u001b[1m \u001b[0m┃\n",
       "┡━━━━━━━━━━━━━━━━━━━━━━━━━━━╇━━━━━━━━━━━━━━━━━━━━━━━━━━━┩\n",
       "│\u001b[36m \u001b[0m\u001b[36m     test_acc_epoch      \u001b[0m\u001b[36m \u001b[0m│\u001b[35m \u001b[0m\u001b[35m   0.6009389758110046    \u001b[0m\u001b[35m \u001b[0m│\n",
       "│\u001b[36m \u001b[0m\u001b[36m     test_loss_epoch     \u001b[0m\u001b[36m \u001b[0m│\u001b[35m \u001b[0m\u001b[35m   0.9757962822914124    \u001b[0m\u001b[35m \u001b[0m│\n",
       "└───────────────────────────┴───────────────────────────┘\n"
      ]
     },
     "metadata": {},
     "output_type": "display_data"
    },
    {
     "name": "stdout",
     "output_type": "stream",
     "text": [
      "avg CV res for grade classification task using multimodal inputs over 5 folds: {'test_acc_epoch': 0.559}\n"
     ]
    }
   ],
   "source": [
    "# %%script false --no-raise-error\n",
    "dataset = MMDataset(data_file = 'data/data_subtype_grade.csv')\n",
    "\n",
    "# init model\n",
    "model_class = Attention1DClassifier\n",
    "mode = 'multimodal'\n",
    "target = 'grade'\n",
    "model_args = {'mode': mode, 'target': target}\n",
    "# train args\n",
    "train_args = {'bsz': 128, 'k': 5, 'num_epochs': 50, 'save_top_k': 0, 'tblog_name': f'best_{mode}_kfoldcv', 'enable_progress_bar': False}\n",
    "\n",
    "# run k-fold CV\n",
    "res_kfold_cv = kfold_cv(model_class, dataset, model_args, train_args)\n",
    "\n",
    "# print avg results over k folds\n",
    "metrics = ['test_acc_epoch']\n",
    "avg_res = {k: np.mean([res[k] for res in res_kfold_cv]).round(3) for k in metrics}\n",
    "print(f\"avg CV res for {target} classification task using {mode} inputs over {train_args['k']} folds: {avg_res}\")"
   ]
  }
 ],
 "metadata": {
  "kernelspec": {
   "display_name": "multimodal",
   "language": "python",
   "name": "python3"
  },
  "language_info": {
   "codemirror_mode": {
    "name": "ipython",
    "version": 3
   },
   "file_extension": ".py",
   "mimetype": "text/x-python",
   "name": "python",
   "nbconvert_exporter": "python",
   "pygments_lexer": "ipython3",
   "version": "3.11.4"
  },
  "orig_nbformat": 4
 },
 "nbformat": 4,
 "nbformat_minor": 2
}
