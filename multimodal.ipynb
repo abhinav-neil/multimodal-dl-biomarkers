{
 "cells": [
  {
   "cell_type": "markdown",
   "metadata": {},
   "source": [
    "# Multimodal"
   ]
  },
  {
   "cell_type": "markdown",
   "metadata": {},
   "source": [
    "## Setup"
   ]
  },
  {
   "cell_type": "markdown",
   "metadata": {},
   "source": [
    "### Imports"
   ]
  },
  {
   "cell_type": "code",
   "execution_count": 2,
   "metadata": {},
   "outputs": [],
   "source": [
    "# Imports\n",
    "import os\n",
    "import numpy as np\n",
    "import pandas as pd\n",
    "import random\n",
    "from tqdm.notebook import tqdm\n",
    "import torch\n",
    "from transformers import AutoTokenizer, AutoModel, AutoModelForSequenceClassification, pipeline\n",
    "from torch.utils.data import Dataset, DataLoader\n",
    "from src.utils import *\n",
    "from src.models import *\n",
    "from src.process_reports import *\n",
    "from src.train import train_mm_stil, kfold_cv\n",
    "\n",
    "%load_ext autoreload\n",
    "%autoreload 2"
   ]
  },
  {
   "cell_type": "markdown",
   "metadata": {},
   "source": [
    "### Set seed & device"
   ]
  },
  {
   "cell_type": "code",
   "execution_count": 3,
   "metadata": {},
   "outputs": [],
   "source": [
    "set_seed(42)      \n",
    "device = torch.device(\"cuda\" if torch.cuda.is_available() else \"cpu\")"
   ]
  },
  {
   "cell_type": "markdown",
   "metadata": {},
   "source": [
    "### Extract text feats from reports"
   ]
  },
  {
   "cell_type": "code",
   "execution_count": 3,
   "metadata": {},
   "outputs": [],
   "source": [
    "%%script false --no-raise-error\n",
    "# load biobert model & tokenizer\n",
    "tokenizer = AutoTokenizer.from_pretrained(''dmis-lab/biobert-large-cased-v1.1-mnli)\n",
    "lm = AutoModel.from_pretrained('dmis-lab/biobert-large-cased-v1.1-mnli')\n",
    "data_dir = '/mnt/disks/ext/data/gdc/tcga/brca'\n",
    "output_dir = 'data/report_feats'\n",
    "extract_text_features(lm, tokenizer, data_dir)"
   ]
  },
  {
   "cell_type": "markdown",
   "metadata": {},
   "source": [
    "## Task: Predict sTILs from WSIs & reports"
   ]
  },
  {
   "cell_type": "markdown",
   "metadata": {},
   "source": [
    "### Set hparams"
   ]
  },
  {
   "cell_type": "code",
   "execution_count": 3,
   "metadata": {},
   "outputs": [],
   "source": [
    "bsz = 16 # batch size for dataloaders\n",
    "img_channels_in = 2048  # emb dim of wsi feats\n",
    "text_channels_in = 1024 # emb dim of report feats\n",
    "hidden_dim_mlp = 16 # hidden layer dim of mlp\n",
    "num_classes = 10 # number of stil levels"
   ]
  },
  {
   "cell_type": "markdown",
   "metadata": {},
   "source": [
    "### Load data"
   ]
  },
  {
   "cell_type": "code",
   "execution_count": 4,
   "metadata": {},
   "outputs": [
    {
     "name": "stdout",
     "output_type": "stream",
     "text": [
      "size of train set: 468, val set: 58, test set: 170\n"
     ]
    }
   ],
   "source": [
    "# Create the dataset\n",
    "root_dir = './'\n",
    "data_file = 'data/stils/data_stils.csv'\n",
    "use_rand_splits = False # use random splits or predefined splits\n",
    "train_data = MMDataset(root_dir, data_file, 'train', use_rand_splits)\n",
    "val_data = MMDataset(root_dir, data_file, 'val', use_rand_splits)\n",
    "test_data = MMDataset(root_dir, data_file, 'test', use_rand_splits)\n",
    "\n",
    "print(f'size of train set: {len(train_data)}, val set: {len(val_data)}, test set: {len(test_data)}')\n",
    "\n",
    "# Create the dataloaders\n",
    "train_loader = DataLoader(train_data, batch_size=bsz, shuffle=True, num_workers=12, collate_fn=MMDataset.mm_collate_fn)\n",
    "val_loader = DataLoader(val_data, batch_size=bsz, shuffle=False, num_workers=12, collate_fn=MMDataset.mm_collate_fn)\n",
    "test_loader = DataLoader(test_data, batch_size=bsz, shuffle=False, num_workers=12, collate_fn=MMDataset.mm_collate_fn)"
   ]
  },
  {
   "cell_type": "markdown",
   "metadata": {},
   "source": [
    "### Train & eval"
   ]
  },
  {
   "cell_type": "code",
   "execution_count": null,
   "metadata": {},
   "outputs": [],
   "source": [
    "# %%script false --no-raise-error\n",
    "# init model (one of: MLPSTILClassifier, MLPSTILRegressor, Attention1DSTILClassifier, Attention1DSTILRegressor, Attention2DSTILClassifier, Attention2DSTILRegressor) \n",
    "model = Attention1DSTILRegressor(mode='image')\n",
    "\n",
    "# set training args\n",
    "num_epochs = 50\n",
    "resume_ckpt = None\n",
    "args = {'num_epochs': num_epochs, 'ckpt_name': 'ckpt_best_img'}\n",
    "\n",
    "# train model\n",
    "model, trainer = train_mm_stil(model, train_loader, val_loader, args)\n",
    "\n",
    "# evaluate the trained model on the test set\n",
    "trainer.test(model, test_loader)"
   ]
  },
  {
   "cell_type": "markdown",
   "metadata": {},
   "source": [
    "### K-fold CV"
   ]
  },
  {
   "cell_type": "code",
   "execution_count": null,
   "metadata": {},
   "outputs": [],
   "source": [
    "# %%script false --no-raise-error\n",
    "# run k-fold CV\n",
    "dataset = MMDataset()\n",
    "\n",
    "model_class = Attention1DSTILRegressor\n",
    "model_args = {'mode': 'image'}\n",
    "train_args = {'k': 5, 'num_epochs': 50, 'ckpt_name': 'ckpt_best_img_kfold_cv'}\n",
    "\n",
    "res_kfold_cv = kfold_cv(model_class, dataset, model_args, train_args)\n",
    "metrics = ['test_loss', 'test_corr', 'test_r2']\n",
    "avg_res = {k: np.mean([res[k] for res in res_kfold_cv]).round(3) for k in metrics}\n",
    "print(f\"avg res over {train_args['k']} folds: {avg_res}\")"
   ]
  },
  {
   "cell_type": "markdown",
   "metadata": {},
   "source": [
    "## Task: Predict cancer subtypes from multimodal data"
   ]
  },
  {
   "cell_type": "markdown",
   "metadata": {},
   "source": [
    "### Annotate subtype & grade from path reports"
   ]
  },
  {
   "cell_type": "code",
   "execution_count": 6,
   "metadata": {},
   "outputs": [
    {
     "name": "stderr",
     "output_type": "stream",
     "text": [
      "  0%|          | 0/1068 [00:00<?, ?it/s]"
     ]
    },
    {
     "name": "stderr",
     "output_type": "stream",
     "text": [
      " 21%|██        | 219/1068 [03:57<15:56,  1.13s/it]"
     ]
    },
    {
     "name": "stdout",
     "output_type": "stream",
     "text": [
      "error parsing output for TCGA-C8-A27A.txt...\n"
     ]
    },
    {
     "name": "stderr",
     "output_type": "stream",
     "text": [
      " 88%|████████▊ | 939/1068 [16:19<02:11,  1.02s/it]"
     ]
    },
    {
     "name": "stdout",
     "output_type": "stream",
     "text": [
      "HTTP error: 502 Server Error: Bad Gateway for url: https://api.openai.com/v1/chat/completions, retrying...\n"
     ]
    },
    {
     "name": "stderr",
     "output_type": "stream",
     "text": [
      " 99%|█████████▉| 1055/1068 [28:29<00:13,  1.06s/it]  "
     ]
    },
    {
     "name": "stdout",
     "output_type": "stream",
     "text": [
      "HTTP error: 502 Server Error: Bad Gateway for url: https://api.openai.com/v1/chat/completions, retrying...\n"
     ]
    },
    {
     "name": "stderr",
     "output_type": "stream",
     "text": [
      "100%|██████████| 1068/1068 [38:51<00:00,  2.18s/it] \n"
     ]
    },
    {
     "data": {
      "text/html": [
       "<div>\n",
       "<style scoped>\n",
       "    .dataframe tbody tr th:only-of-type {\n",
       "        vertical-align: middle;\n",
       "    }\n",
       "\n",
       "    .dataframe tbody tr th {\n",
       "        vertical-align: top;\n",
       "    }\n",
       "\n",
       "    .dataframe thead th {\n",
       "        text-align: right;\n",
       "    }\n",
       "</style>\n",
       "<table border=\"1\" class=\"dataframe\">\n",
       "  <thead>\n",
       "    <tr style=\"text-align: right;\">\n",
       "      <th></th>\n",
       "      <th>case_id</th>\n",
       "      <th>region</th>\n",
       "      <th>localization</th>\n",
       "      <th>grade</th>\n",
       "    </tr>\n",
       "  </thead>\n",
       "  <tbody>\n",
       "    <tr>\n",
       "      <th>13</th>\n",
       "      <td>TCGA-3C-AAAU</td>\n",
       "      <td>Lobular</td>\n",
       "      <td>Invasive</td>\n",
       "      <td>3</td>\n",
       "    </tr>\n",
       "    <tr>\n",
       "      <th>952</th>\n",
       "      <td>TCGA-3C-AALI</td>\n",
       "      <td>Ductal</td>\n",
       "      <td>Invasive</td>\n",
       "      <td>2</td>\n",
       "    </tr>\n",
       "    <tr>\n",
       "      <th>458</th>\n",
       "      <td>TCGA-3C-AALJ</td>\n",
       "      <td>Ductal</td>\n",
       "      <td>Invasive</td>\n",
       "      <td>3</td>\n",
       "    </tr>\n",
       "    <tr>\n",
       "      <th>701</th>\n",
       "      <td>TCGA-3C-AALK</td>\n",
       "      <td>ductal</td>\n",
       "      <td>invasive</td>\n",
       "      <td>NA</td>\n",
       "    </tr>\n",
       "    <tr>\n",
       "      <th>568</th>\n",
       "      <td>TCGA-4H-AAAK</td>\n",
       "      <td>Lobular</td>\n",
       "      <td>Invasive</td>\n",
       "      <td>2</td>\n",
       "    </tr>\n",
       "    <tr>\n",
       "      <th>420</th>\n",
       "      <td>TCGA-5L-AAT0</td>\n",
       "      <td>lobular</td>\n",
       "      <td>invasive</td>\n",
       "      <td>1</td>\n",
       "    </tr>\n",
       "    <tr>\n",
       "      <th>878</th>\n",
       "      <td>TCGA-5L-AAT1</td>\n",
       "      <td>lobular</td>\n",
       "      <td>invasive</td>\n",
       "      <td>1</td>\n",
       "    </tr>\n",
       "    <tr>\n",
       "      <th>341</th>\n",
       "      <td>TCGA-5T-A9QA</td>\n",
       "      <td>Ductal (as the report mentions \"invasive ducta...</td>\n",
       "      <td>Invasive (as the report mentions \"invasive car...</td>\n",
       "      <td>3 (as the report mentions \"Histologic Grade</td>\n",
       "    </tr>\n",
       "    <tr>\n",
       "      <th>1051</th>\n",
       "      <td>TCGA-A1-A0SB</td>\n",
       "      <td>other (adenoid cystic carcinoma)</td>\n",
       "      <td>invasive</td>\n",
       "      <td>1</td>\n",
       "    </tr>\n",
       "    <tr>\n",
       "      <th>371</th>\n",
       "      <td>TCGA-A1-A0SD</td>\n",
       "      <td>Ductal</td>\n",
       "      <td>Invasive</td>\n",
       "      <td>Grade 2</td>\n",
       "    </tr>\n",
       "  </tbody>\n",
       "</table>\n",
       "</div>"
      ],
      "text/plain": [
       "           case_id                                             region  \\\n",
       "13    TCGA-3C-AAAU                                            Lobular   \n",
       "952   TCGA-3C-AALI                                             Ductal   \n",
       "458   TCGA-3C-AALJ                                             Ductal   \n",
       "701   TCGA-3C-AALK                                             ductal   \n",
       "568   TCGA-4H-AAAK                                            Lobular   \n",
       "420   TCGA-5L-AAT0                                            lobular   \n",
       "878   TCGA-5L-AAT1                                            lobular   \n",
       "341   TCGA-5T-A9QA  Ductal (as the report mentions \"invasive ducta...   \n",
       "1051  TCGA-A1-A0SB                   other (adenoid cystic carcinoma)   \n",
       "371   TCGA-A1-A0SD                                             Ductal   \n",
       "\n",
       "                                           localization  \\\n",
       "13                                             Invasive   \n",
       "952                                            Invasive   \n",
       "458                                            Invasive   \n",
       "701                                            invasive   \n",
       "568                                            Invasive   \n",
       "420                                            invasive   \n",
       "878                                            invasive   \n",
       "341   Invasive (as the report mentions \"invasive car...   \n",
       "1051                                           invasive   \n",
       "371                                            Invasive   \n",
       "\n",
       "                                            grade  \n",
       "13                                              3  \n",
       "952                                             2  \n",
       "458                                             3  \n",
       "701                                            NA  \n",
       "568                                             2  \n",
       "420                                             1  \n",
       "878                                             1  \n",
       "341   3 (as the report mentions \"Histologic Grade  \n",
       "1051                                            1  \n",
       "371                                       Grade 2  "
      ]
     },
     "execution_count": 6,
     "metadata": {},
     "output_type": "execute_result"
    }
   ],
   "source": [
    "lm_name = 'gpt-3.5-turbo'\n",
    "\n",
    "# sample_report_path = 'data/reports_distilled/TCGA-WT-AB41.txt'\n",
    "reports_dir = 'data/reports_distilled'\n",
    "# create prompt\n",
    "# prompt = create_zs_prompt(sample_report_path)\n",
    "\n",
    "# args for generation\n",
    "gen_args = {'max_tokens': 200}\n",
    "\n",
    "# out = gen_subtype_grade_zs(lm_name, prompt, api='openai', args=gen_args)\n",
    "df_res = classify_reports_zs(lm_name, reports_dir, api='openai', args=gen_args)\n",
    "df_res.head(10)"
   ]
  }
 ],
 "metadata": {
  "kernelspec": {
   "display_name": "multimodal",
   "language": "python",
   "name": "python3"
  },
  "language_info": {
   "codemirror_mode": {
    "name": "ipython",
    "version": 3
   },
   "file_extension": ".py",
   "mimetype": "text/x-python",
   "name": "python",
   "nbconvert_exporter": "python",
   "pygments_lexer": "ipython3",
   "version": "3.11.4"
  },
  "orig_nbformat": 4
 },
 "nbformat": 4,
 "nbformat_minor": 2
}
