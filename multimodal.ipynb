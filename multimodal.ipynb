{
 "cells": [
  {
   "cell_type": "markdown",
   "metadata": {},
   "source": [
    "# Multimodal"
   ]
  },
  {
   "cell_type": "markdown",
   "metadata": {},
   "source": [
    "## Setup"
   ]
  },
  {
   "cell_type": "markdown",
   "metadata": {},
   "source": [
    "### Imports"
   ]
  },
  {
   "cell_type": "code",
   "execution_count": 1,
   "metadata": {},
   "outputs": [
    {
     "name": "stdout",
     "output_type": "stream",
     "text": [
      "The autoreload extension is already loaded. To reload it, use:\n",
      "  %reload_ext autoreload\n"
     ]
    }
   ],
   "source": [
    "# Imports\n",
    "import os\n",
    "import numpy as np\n",
    "import json\n",
    "import torch\n",
    "from src.utils import *\n",
    "from src.models import *\n",
    "from src.process_reports import *\n",
    "from src.train import train_mm, kfold_cv\n",
    "\n",
    "%load_ext autoreload\n",
    "%autoreload 2"
   ]
  },
  {
   "cell_type": "markdown",
   "metadata": {},
   "source": [
    "### Set seed & device"
   ]
  },
  {
   "cell_type": "code",
   "execution_count": 2,
   "metadata": {},
   "outputs": [],
   "source": [
    "set_seed(42)      \n",
    "device = torch.device(\"cuda\" if torch.cuda.is_available() else \"cpu\")\n",
    "# set torch matmul precision\n",
    "torch.set_float32_matmul_precision('medium')\n",
    "# set tokenizers parallelism to false\n",
    "os.environ['TOKENIZERS_PARALLELISM'] = 'false'\n",
    "# set numpy float precision\n",
    "np.set_printoptions(precision=3, suppress=True)"
   ]
  },
  {
   "cell_type": "markdown",
   "metadata": {},
   "source": [
    "## Process reports"
   ]
  },
  {
   "cell_type": "markdown",
   "metadata": {},
   "source": [
    "### Summarize reports"
   ]
  },
  {
   "cell_type": "code",
   "execution_count": 7,
   "metadata": {},
   "outputs": [],
   "source": [
    "# remove invalid reports\n",
    "reports_dir = 'data/tcga_crc/reports/'\n",
    "for report in os.listdir(reports_dir):\n",
    "    with open(reports_dir + report, 'r') as f:\n",
    "        report_text = f.read()\n",
    "        if len(report_text) < 20:\n",
    "            print(f'invalid report: {report}\\ncontent: {report_text}\\ndeleting...\\n')\n",
    "            os.remove(reports_dir + report)"
   ]
  },
  {
   "cell_type": "code",
   "execution_count": null,
   "metadata": {},
   "outputs": [],
   "source": [
    "# summarize report using gpt-3\n",
    "summarize_reports(reports_dir='data/tcga_crc/reports', reports_sum_dir='data/tcga_crc/reports_sum')"
   ]
  },
  {
   "cell_type": "markdown",
   "metadata": {},
   "source": [
    "### Extract text feats from reports"
   ]
  },
  {
   "cell_type": "code",
   "execution_count": 3,
   "metadata": {},
   "outputs": [
    {
     "name": "stderr",
     "output_type": "stream",
     "text": [
      "100%|██████████| 607/607 [04:33<00:00,  2.22it/s]\n"
     ]
    }
   ],
   "source": [
    "# extract text feats from (summarized) reports\n",
    "extract_text_feats(reports_dir='data/tcga_crc/reports_sum', report_feats_dir='data/tcga_crc/report_feats')"
   ]
  },
  {
   "cell_type": "markdown",
   "metadata": {},
   "source": [
    "## Extract images feats from WSIs"
   ]
  },
  {
   "cell_type": "code",
   "execution_count": null,
   "metadata": {},
   "outputs": [],
   "source": [
    "slides_root_dir = '/mnt/disks/ext/data/tcga/brca/' # root dir of raw slides\n",
    "slides_manifest_path = 'data/tcga_brca/wsi_feats_manifest.txt' # path to slides manifest\n",
    "output_dir = 'data/tcga_brca/wsi_feats' # output dir for wsi feats\n",
    "\n",
    "# run script to extract wsi feats\n",
    "!python src/extract_wsi_feats.py \\\n",
    "    --slides-root-dir $slides_root_dir \\\n",
    "    --slides-manifest-path $slides_manifest_path \\\n",
    "    --output-dir $output_dir"
   ]
  },
  {
   "cell_type": "markdown",
   "metadata": {},
   "source": [
    "## Task: Predict target from WSIs & reports"
   ]
  },
  {
   "cell_type": "markdown",
   "metadata": {},
   "source": [
    "### Set params"
   ]
  },
  {
   "cell_type": "code",
   "execution_count": 8,
   "metadata": {},
   "outputs": [],
   "source": [
    "subtype = 'tcga_crc'\n",
    "wsi_feats_dir = f'data/{subtype}/wsi_feats'\n",
    "report_feats_dir = f'data/{subtype}/report_feats'\n",
    "target = 'msi'  # target, either 'msi' or 'stils'\n",
    "mode = 'img'  # input modalities: 'text', 'img', or 'mm'\n",
    "data_file = f'data/{subtype}/{subtype}_{target}.csv'\n",
    "split = 'def'   # dataset split: 'def' or 'rand'\n",
    "bsz = 128 # batch size for dataloaders\n",
    "resample = True # resample data to balance classes\n",
    "num_classes = 2 # # classes for classification\n",
    "class_weights = [1, 1] # class weights for loss function\n",
    "metrics = ['acc', 'bal_acc', 'f1', 'auroc', 'acc_per_class', 'f1_per_class'] # metrics to track"
   ]
  },
  {
   "cell_type": "markdown",
   "metadata": {},
   "source": [
    "### Single-fold"
   ]
  },
  {
   "cell_type": "code",
   "execution_count": 15,
   "metadata": {},
   "outputs": [
    {
     "name": "stdout",
     "output_type": "stream",
     "text": [
      "size of train set: 376, val set: 53, test set: 109\n",
      "# samples for each class in train set: (array([0, 1]), array([326,  50]))\n",
      "# samples for each class in val set: (array([0, 1]), array([46,  7]))\n",
      "# samples for each class in test set: (array([0, 1]), array([94, 15]))\n"
     ]
    }
   ],
   "source": [
    "# create dataloaders\n",
    "train_loader, val_loader, test_loader = create_dataloaders(target, data_file, wsi_feats_dir, report_feats_dir, use_rand_splits=split=='rand', bsz=bsz, resample=resample)\n",
    "\n",
    "# init model\n",
    "model = Attention1DClassifier(target=target, mode=mode, num_classes=num_classes, class_weights=class_weights, metrics=metrics) # model architecture: 'Attention1DRegressor' or 'Attention1DClassifier'\n",
    "\n",
    "# set training args\n",
    "args = {'num_epochs': 100, 'ckpt_name': f'ckpt_best_{mode}_{split}_split', 'resume_ckpt': None, 'tblog_name': f'best_{mode}_{split}_split'}\n",
    "\n",
    "# train model\n",
    "model, trainer = train_mm(model, train_loader, val_loader, args)\n",
    "\n",
    "# evaluate the trained model on the test set\n",
    "trainer.test(model, test_loader)"
   ]
  },
  {
   "cell_type": "markdown",
   "metadata": {},
   "source": [
    "### K-fold CV"
   ]
  },
  {
   "cell_type": "code",
   "execution_count": null,
   "metadata": {},
   "outputs": [],
   "source": [
    "# create dataset\n",
    "dataset = MMDataset(target, data_file, wsi_feats_dir, report_feats_dir)\n",
    "# model class, either 'Attention1DRegressor' or 'Attention1DClassifier'\n",
    "model_class = Attention1DClassifier\n",
    "# model args\n",
    "model_args = {'mode': mode, 'target': target, 'num_classes': num_classes, 'class_weights': class_weights, 'metrics': metrics}\n",
    "\n",
    "# train args\n",
    "train_args = {'bsz': bsz, 'k': 5, 'rand_seed': 42, 'resample': resample, 'num_epochs': 100, 'patience': 10, 'save_top_k': 0, 'tblog_name': f'best_{mode}_kfold', 'enable_progress_bar': False}\n",
    "\n",
    "# run k-fold CV\n",
    "res_kfold_cv = kfold_cv(model_class, dataset, model_args, train_args)"
   ]
  },
  {
   "cell_type": "code",
   "execution_count": null,
   "metadata": {},
   "outputs": [],
   "source": [
    "# compute mean & std over k folds\n",
    "# load results\n",
    "res_kfold_path = 'outputs/Attention1DClassifier/msi/kfold_img.json'\n",
    "with open(res_kfold_path, 'r') as f:\n",
    "    res_kfold_cv = json.load(f)['results']\n",
    "\n",
    "# compute variance over k folds\n",
    "res_std = {metric: np.std([res_kfold_cv[i][metric] for i in res_kfold_cv.keys()]) for metric in res_kfold_cv['0'].keys()}\n",
    "\n",
    "# print avg results over k folds\n",
    "print(f\"avg res over {train_args['k']} folds:\")\n",
    "for metric in res_kfold_cv['avg'].keys():\n",
    "    print(f\"{metric.replace('_epoch', '')}: {res_kfold_cv['avg'][metric]:.3f} +- {res_std[metric]:.3f}\")"
   ]
  }
 ],
 "metadata": {
  "kernelspec": {
   "display_name": "multimodal",
   "language": "python",
   "name": "python3"
  },
  "language_info": {
   "codemirror_mode": {
    "name": "ipython",
    "version": 3
   },
   "file_extension": ".py",
   "mimetype": "text/x-python",
   "name": "python",
   "nbconvert_exporter": "python",
   "pygments_lexer": "ipython3",
   "version": "3.11.4"
  },
  "orig_nbformat": 4
 },
 "nbformat": 4,
 "nbformat_minor": 2
}
