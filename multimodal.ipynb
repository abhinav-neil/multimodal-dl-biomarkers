{
 "cells": [
  {
   "cell_type": "markdown",
   "metadata": {},
   "source": [
    "# Multimodal"
   ]
  },
  {
   "cell_type": "markdown",
   "metadata": {},
   "source": [
    "## Setup"
   ]
  },
  {
   "cell_type": "markdown",
   "metadata": {},
   "source": [
    "### Imports"
   ]
  },
  {
   "cell_type": "code",
   "execution_count": 1,
   "metadata": {},
   "outputs": [],
   "source": [
    "# Imports\n",
    "import os\n",
    "import numpy as np\n",
    "import pandas as pd\n",
    "import random\n",
    "from tqdm.notebook import tqdm\n",
    "import torch\n",
    "from transformers import AutoTokenizer, AutoModel, AutoModelForSequenceClassification, pipeline\n",
    "from torch.utils.data import Dataset, DataLoader\n",
    "from src.utils import *\n",
    "from src.models import MLPSTILClassifier, Attention1DSTILClassifier, Attention2DSTILClassifier, MLPSTILRegressor, Attention1DSTILRegressor, Attention2DSTILRegressor\n",
    "from src.train import train_mm_stil, kfold_cv\n",
    "\n",
    "%load_ext autoreload\n",
    "%autoreload 2"
   ]
  },
  {
   "cell_type": "markdown",
   "metadata": {},
   "source": [
    "### Set seed & device"
   ]
  },
  {
   "cell_type": "code",
   "execution_count": 2,
   "metadata": {},
   "outputs": [],
   "source": [
    "set_seed(42)      \n",
    "device = torch.device(\"cuda\" if torch.cuda.is_available() else \"cpu\")"
   ]
  },
  {
   "cell_type": "markdown",
   "metadata": {},
   "source": [
    "### Extract text feats from reports"
   ]
  },
  {
   "cell_type": "code",
   "execution_count": 3,
   "metadata": {},
   "outputs": [],
   "source": [
    "%%script false --no-raise-error\n",
    "# load biobert model & tokenizer\n",
    "tokenizer = AutoTokenizer.from_pretrained(''dmis-lab/biobert-large-cased-v1.1-mnli)\n",
    "lm = AutoModel.from_pretrained('dmis-lab/biobert-large-cased-v1.1-mnli')\n",
    "data_dir = '/mnt/disks/ext/data/gdc/tcga/brca'\n",
    "output_dir = 'data/report_feats'\n",
    "extract_text_features(lm, tokenizer, data_dir)"
   ]
  },
  {
   "cell_type": "markdown",
   "metadata": {},
   "source": [
    "## Task: Predict sTILs from WSIs & reports"
   ]
  },
  {
   "cell_type": "markdown",
   "metadata": {},
   "source": [
    "### Set hparams"
   ]
  },
  {
   "cell_type": "code",
   "execution_count": 3,
   "metadata": {},
   "outputs": [],
   "source": [
    "bsz = 16 # batch size for dataloaders\n",
    "img_channels_in = 2048  # emb dim of wsi feats\n",
    "text_channels_in = 1024 # emb dim of report feats\n",
    "hidden_dim_mlp = 16 # hidden layer dim of mlp\n",
    "num_classes = 10 # number of stil levels"
   ]
  },
  {
   "cell_type": "markdown",
   "metadata": {},
   "source": [
    "### Load data"
   ]
  },
  {
   "cell_type": "code",
   "execution_count": 4,
   "metadata": {},
   "outputs": [
    {
     "name": "stdout",
     "output_type": "stream",
     "text": [
      "size of train set: 468, val set: 58, test set: 170\n"
     ]
    }
   ],
   "source": [
    "# Create the dataset\n",
    "root_dir = './'\n",
    "data_file = 'data/stils/data_stils.csv'\n",
    "use_rand_splits = False # use random splits or predefined splits\n",
    "train_data = MMDataset(root_dir, data_file, 'train', use_rand_splits)\n",
    "val_data = MMDataset(root_dir, data_file, 'val', use_rand_splits)\n",
    "test_data = MMDataset(root_dir, data_file, 'test', use_rand_splits)\n",
    "\n",
    "print(f'size of train set: {len(train_data)}, val set: {len(val_data)}, test set: {len(test_data)}')\n",
    "\n",
    "# Create the dataloaders\n",
    "train_loader = DataLoader(train_data, batch_size=bsz, shuffle=True, num_workers=12, collate_fn=MMDataset.mm_collate_fn)\n",
    "val_loader = DataLoader(val_data, batch_size=bsz, shuffle=False, num_workers=12, collate_fn=MMDataset.mm_collate_fn)\n",
    "test_loader = DataLoader(test_data, batch_size=bsz, shuffle=False, num_workers=12, collate_fn=MMDataset.mm_collate_fn)"
   ]
  },
  {
   "cell_type": "markdown",
   "metadata": {},
   "source": [
    "### Train & eval"
   ]
  },
  {
   "cell_type": "code",
   "execution_count": null,
   "metadata": {},
   "outputs": [],
   "source": [
    "# %%script false --no-raise-error\n",
    "# init model (one of: MLPSTILClassifier, MLPSTILRegressor, Attention1DSTILClassifier, Attention1DSTILRegressor, Attention2DSTILClassifier, Attention2DSTILRegressor) \n",
    "model = Attention1DSTILRegressor(mode='image')\n",
    "\n",
    "# set training args\n",
    "num_epochs = 50\n",
    "resume_ckpt = None\n",
    "args = {'num_epochs': num_epochs, 'ckpt_name': 'ckpt_best_img'}\n",
    "\n",
    "# train model\n",
    "model, trainer = train_mm_stil(model, train_loader, val_loader, args)\n",
    "\n",
    "# evaluate the trained model on the test set\n",
    "trainer.test(model, test_loader)"
   ]
  },
  {
   "cell_type": "markdown",
   "metadata": {},
   "source": [
    "### K-fold CV"
   ]
  },
  {
   "cell_type": "code",
   "execution_count": null,
   "metadata": {},
   "outputs": [],
   "source": [
    "# %%script false --no-raise-error\n",
    "# run k-fold CV\n",
    "dataset = MMDataset()\n",
    "\n",
    "model_class = Attention1DSTILRegressor\n",
    "model_args = {'mode': 'image'}\n",
    "train_args = {'k': 5, 'num_epochs': 50, 'ckpt_name': 'ckpt_best_img_kfold_cv'}\n",
    "\n",
    "res_kfold_cv = kfold_cv(model_class, dataset, model_args, train_args)\n",
    "metrics = ['test_loss', 'test_corr', 'test_r2']\n",
    "avg_res = {k: np.mean([res[k] for res in res_kfold_cv]).round(3) for k in metrics}\n",
    "print(f\"avg res over {train_args['k']} folds: {avg_res}\")"
   ]
  },
  {
   "cell_type": "markdown",
   "metadata": {},
   "source": [
    "## Task: Predict cancer subtypes from multimodal data"
   ]
  },
  {
   "cell_type": "markdown",
   "metadata": {},
   "source": [
    "### Generate cancer subtype annotations from path reports"
   ]
  },
  {
   "cell_type": "code",
   "execution_count": 6,
   "metadata": {},
   "outputs": [
    {
     "data": {
      "text/html": [
       "<div>\n",
       "<style scoped>\n",
       "    .dataframe tbody tr th:only-of-type {\n",
       "        vertical-align: middle;\n",
       "    }\n",
       "\n",
       "    .dataframe tbody tr th {\n",
       "        vertical-align: top;\n",
       "    }\n",
       "\n",
       "    .dataframe thead th {\n",
       "        text-align: right;\n",
       "    }\n",
       "</style>\n",
       "<table border=\"1\" class=\"dataframe\">\n",
       "  <thead>\n",
       "    <tr style=\"text-align: right;\">\n",
       "      <th></th>\n",
       "      <th>region</th>\n",
       "      <th>localization</th>\n",
       "      <th>grade</th>\n",
       "    </tr>\n",
       "    <tr>\n",
       "      <th>case_id</th>\n",
       "      <th></th>\n",
       "      <th></th>\n",
       "      <th></th>\n",
       "    </tr>\n",
       "  </thead>\n",
       "  <tbody>\n",
       "    <tr>\n",
       "      <th>TCGA-A2-A0CZ</th>\n",
       "      <td>metastatic</td>\n",
       "      <td>metastatic</td>\n",
       "      <td>grade 2</td>\n",
       "    </tr>\n",
       "    <tr>\n",
       "      <th>TCGA-A2-A0D0</th>\n",
       "      <td>other</td>\n",
       "      <td>other</td>\n",
       "      <td>NA</td>\n",
       "    </tr>\n",
       "    <tr>\n",
       "      <th>TCGA-A2-A0D1</th>\n",
       "      <td>other</td>\n",
       "      <td>in-situ</td>\n",
       "      <td>grade 3</td>\n",
       "    </tr>\n",
       "    <tr>\n",
       "      <th>TCGA-A2-A0D2</th>\n",
       "      <td>other</td>\n",
       "      <td>invasive/infiltrating</td>\n",
       "      <td>grade 2</td>\n",
       "    </tr>\n",
       "    <tr>\n",
       "      <th>TCGA-A2-A0D3</th>\n",
       "      <td>ductal/intraductal</td>\n",
       "      <td>invasive/infiltrating</td>\n",
       "      <td>grade 3</td>\n",
       "    </tr>\n",
       "    <tr>\n",
       "      <th>TCGA-A2-A0D4</th>\n",
       "      <td>metastatic</td>\n",
       "      <td>invasive/infiltrating</td>\n",
       "      <td>grade 2</td>\n",
       "    </tr>\n",
       "    <tr>\n",
       "      <th>TCGA-A2-A0EM</th>\n",
       "      <td>other</td>\n",
       "      <td>other</td>\n",
       "      <td>NA</td>\n",
       "    </tr>\n",
       "    <tr>\n",
       "      <th>TCGA-A2-A0EN</th>\n",
       "      <td>lobular</td>\n",
       "      <td>invasive/infiltrating</td>\n",
       "      <td>grade 2</td>\n",
       "    </tr>\n",
       "    <tr>\n",
       "      <th>TCGA-A2-A0EO</th>\n",
       "      <td>ductal/intraductal</td>\n",
       "      <td>in-situ</td>\n",
       "      <td>grade 1</td>\n",
       "    </tr>\n",
       "    <tr>\n",
       "      <th>TCGA-A2-A0EP</th>\n",
       "      <td>lobular</td>\n",
       "      <td>invasive/infiltrating</td>\n",
       "      <td>grade 3</td>\n",
       "    </tr>\n",
       "    <tr>\n",
       "      <th>TCGA-A2-A0EQ</th>\n",
       "      <td>metastatic</td>\n",
       "      <td>invasive/infiltrating</td>\n",
       "      <td>grade 1</td>\n",
       "    </tr>\n",
       "    <tr>\n",
       "      <th>TCGA-A2-A0ER</th>\n",
       "      <td>metastatic</td>\n",
       "      <td>metastatic</td>\n",
       "      <td>grade 3</td>\n",
       "    </tr>\n",
       "    <tr>\n",
       "      <th>TCGA-A2-A0ES</th>\n",
       "      <td>lobular</td>\n",
       "      <td>invasive/infiltrating</td>\n",
       "      <td>grade 2</td>\n",
       "    </tr>\n",
       "    <tr>\n",
       "      <th>TCGA-A2-A0ET</th>\n",
       "      <td>metastatic</td>\n",
       "      <td>metastatic</td>\n",
       "      <td>grade 1</td>\n",
       "    </tr>\n",
       "    <tr>\n",
       "      <th>TCGA-A2-A0EU</th>\n",
       "      <td>metastatic</td>\n",
       "      <td>metastatic</td>\n",
       "      <td>grade 3</td>\n",
       "    </tr>\n",
       "    <tr>\n",
       "      <th>TCGA-A2-A0EV</th>\n",
       "      <td>ductal/intraductal</td>\n",
       "      <td>invasive/infiltrating</td>\n",
       "      <td>grade 2</td>\n",
       "    </tr>\n",
       "  </tbody>\n",
       "</table>\n",
       "</div>"
      ],
      "text/plain": [
       "                          region           localization    grade\n",
       "case_id                                                         \n",
       "TCGA-A2-A0CZ          metastatic             metastatic  grade 2\n",
       "TCGA-A2-A0D0               other                  other       NA\n",
       "TCGA-A2-A0D1               other                in-situ  grade 3\n",
       "TCGA-A2-A0D2               other  invasive/infiltrating  grade 2\n",
       "TCGA-A2-A0D3  ductal/intraductal  invasive/infiltrating  grade 3\n",
       "TCGA-A2-A0D4          metastatic  invasive/infiltrating  grade 2\n",
       "TCGA-A2-A0EM               other                  other       NA\n",
       "TCGA-A2-A0EN             lobular  invasive/infiltrating  grade 2\n",
       "TCGA-A2-A0EO  ductal/intraductal                in-situ  grade 1\n",
       "TCGA-A2-A0EP             lobular  invasive/infiltrating  grade 3\n",
       "TCGA-A2-A0EQ          metastatic  invasive/infiltrating  grade 1\n",
       "TCGA-A2-A0ER          metastatic             metastatic  grade 3\n",
       "TCGA-A2-A0ES             lobular  invasive/infiltrating  grade 2\n",
       "TCGA-A2-A0ET          metastatic             metastatic  grade 1\n",
       "TCGA-A2-A0EU          metastatic             metastatic  grade 3\n",
       "TCGA-A2-A0EV  ductal/intraductal  invasive/infiltrating  grade 2"
      ]
     },
     "execution_count": 6,
     "metadata": {},
     "output_type": "execute_result"
    }
   ],
   "source": [
    "lm_name = 'facebook/bart-large-mnli'\n",
    "reports_dir = 'data/reports_distilled_sample'\n",
    "df_subtypes_grades = classify_subtype_grade_zs(lm_name, reports_dir)\n",
    "df_subtypes_grades"
   ]
  }
 ],
 "metadata": {
  "kernelspec": {
   "display_name": "multimodal",
   "language": "python",
   "name": "python3"
  },
  "language_info": {
   "codemirror_mode": {
    "name": "ipython",
    "version": 3
   },
   "file_extension": ".py",
   "mimetype": "text/x-python",
   "name": "python",
   "nbconvert_exporter": "python",
   "pygments_lexer": "ipython3",
   "version": "3.11.4"
  },
  "orig_nbformat": 4
 },
 "nbformat": 4,
 "nbformat_minor": 2
}
